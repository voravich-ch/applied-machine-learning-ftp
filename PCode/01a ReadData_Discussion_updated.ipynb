{
 "cells": [
  {
   "cell_type": "markdown",
   "metadata": {
    "colab_type": "text",
    "id": "NQdisWkfQKua"
   },
   "source": [
    "# 01a ReadData_Discussion\n",
    "\n",
    "Contents\n",
    " - Import packages\n",
    " - Review of memory requirements and issues\n",
    " \n",
    "Notes\n",
    " - \n"
   ]
  },
  {
   "cell_type": "markdown",
   "metadata": {},
   "source": [
    "**Import packages and set directories**"
   ]
  },
  {
   "cell_type": "code",
   "execution_count": 1,
   "metadata": {
    "colab": {},
    "colab_type": "code",
    "id": "Me0jS9aqQKuc"
   },
   "outputs": [],
   "source": [
    "# system commands\n",
    "import os\n",
    "\n",
    "# load and save data\n",
    "import pickle\n",
    "\n",
    "# data manipulation\n",
    "import numpy as np\n",
    "import pandas as pd\n",
    "\n",
    "# graphs\n",
    "import seaborn as sns\n",
    "import matplotlib.pyplot as plt\n",
    "%matplotlib inline"
   ]
  },
  {
   "cell_type": "code",
   "execution_count": 2,
   "metadata": {
    "colab": {
     "base_uri": "https://localhost:8080/",
     "height": 51
    },
    "colab_type": "code",
    "executionInfo": {
     "elapsed": 692,
     "status": "ok",
     "timestamp": 1562668971599,
     "user": {
      "displayName": "K a l o u",
      "photoUrl": "https://lh4.googleusercontent.com/-EYTbYeNdLqk/AAAAAAAAAAI/AAAAAAAAADk/OD6CDp5FiG4/s64/photo.jpg",
      "userId": "10262331298445208932"
     },
     "user_tz": -60
    },
    "id": "u_Yfp7j9QKug",
    "outputId": "cba319aa-f0aa-41a2-9049-fc6ce9300d07"
   },
   "outputs": [
    {
     "name": "stdout",
     "output_type": "stream",
     "text": [
      "1.19.5\n",
      "1.2.4\n"
     ]
    }
   ],
   "source": [
    "print(np.__version__)\n",
    "print(pd.__version__)"
   ]
  },
  {
   "cell_type": "code",
   "execution_count": 3,
   "metadata": {
    "colab": {
     "base_uri": "https://localhost:8080/",
     "height": 34
    },
    "colab_type": "code",
    "executionInfo": {
     "elapsed": 512,
     "status": "ok",
     "timestamp": 1562668973607,
     "user": {
      "displayName": "K a l o u",
      "photoUrl": "https://lh4.googleusercontent.com/-EYTbYeNdLqk/AAAAAAAAAAI/AAAAAAAAADk/OD6CDp5FiG4/s64/photo.jpg",
      "userId": "10262331298445208932"
     },
     "user_tz": -60
    },
    "id": "8o7pMYRMQKun",
    "outputId": "d1ea90cb-0ec9-45fd-f5e3-1b9a77b53e94"
   },
   "outputs": [
    {
     "name": "stdout",
     "output_type": "stream",
     "text": [
      "/home/jovyan/smm284-aml/assignment/PCode\n"
     ]
    }
   ],
   "source": [
    "# Set directories\n",
    "print(os.getcwd())\n",
    "dirRawData = \"../input/\"\n",
    "dirPData   = \"../PData/\""
   ]
  },
  {
   "cell_type": "markdown",
   "metadata": {},
   "source": [
    "**Subsets of data**\n",
    "\n",
    "Even if we can store the whole data (see the details below), copying it to h2o and then running various models seems to take something like 16 gig. Also full runs can take a long time, so it is better to run initial experiments on a subset of the data. \n",
    "\n",
    "Therefore subsets with 250k records (train_250k) and 1m records (train_1m) were previously created (01a ReadData_Downsample_Test)."
   ]
  },
  {
   "cell_type": "markdown",
   "metadata": {},
   "source": [
    "**Memory issues**\n",
    "\n",
    "When running Docker on mac, the default maximum memory is set to 2gig.  This can be seen (and changed) in the Docker Dashboard.  The size of the Pandas dataframe required to stored the data when using default pd.read_csv is around 1.5 gig, BUT the memory usage whilst reading this in, peaks at close to 4 gig.  This can be seen by running the command \"docker stats\" from the terminal command line and watching as the data is read in.\n",
    "\n",
    "Without enough memory available to your container you will just get an error - something like \"kernel died and needs to restart\", or something like that.  The error will not make it clear that you ran out of memory.  \n",
    "\n",
    "So I began to look at memory usage of the data frame.  I should mention that at this point, I had missings in many of the numerics.\n",
    "\n",
    "Having read in the data, I then looked at the dtypes.  Strings were stored as objects.  Numbers were stored as float64 or int64.  Both of these are much larger than needed.  I therefore printed the dict of dtypes, using \"df_train.dtypes.to_dict()\" and manually changed the dtypes as necessary.\n",
    "\n",
    "Changing just dtype Object to category reduced the memory of df_train to 1.5 gig to 0.831 gig.  However, this doing this is problematic since, the creation of categorical separately for test data could create different categoricals.\n",
    "\n",
    "Most of the integers have a range -127 to 127 and so can be stored with int8.  a04 goes up to 240 and so can be stored with a uint8 or int16.  Unfortunately (as discussed at the start of Week 4), NA's will cause int's to be upcast to floats - since NA is a float.  Downcasting those we can (because there are no missings) to int8, takes  us down to 0.5 gig. At this stage I went back to the original data and replaced all missing numbers with -99 (having checked that this is not otherwise in those fields).\n",
    "\n",
    "After this - size is 0.203 gig.  (Using object type instead of category, size is 0.77 gig)\n",
    "\n",
    "Datasets here are smaller since limited to 250k or 1m"
   ]
  },
  {
   "cell_type": "code",
   "execution_count": 4,
   "metadata": {},
   "outputs": [],
   "source": [
    "dtypes_cat = {\n",
    " 'target': 'int8',\n",
    " 'a01': \"category\",\n",
    " 'a02': \"category\",\n",
    " 'a03': \"category\",\n",
    " 'a10': \"category\",\n",
    " 'a11': \"int8\",\n",
    " 'a12': \"category\",\n",
    " 'a13': \"category\",\n",
    " 'a16': \"category\",\n",
    " 'a17': \"category\",\n",
    " 'a18': \"category\",\n",
    " 'a19': \"category\",\n",
    " 'a20': \"category\",\n",
    " 'b02': \"category\",\n",
    " 'b03': \"category\",\n",
    " 'b04': \"category\",\n",
    " 'b07': \"category\",\n",
    " 'c02': \"category\",\n",
    " 'c04': \"category\",\n",
    " 'c05': \"category\",\n",
    " 'c06': \"category\",\n",
    " 'c07': \"category\",\n",
    " 'c08': \"category\",\n",
    " 'c09': \"category\",\n",
    " 'e01': \"category\",\n",
    " 'e03': \"category\",\n",
    " 'e11': \"category\",\n",
    " 'e13': \"category\",\n",
    " 'e14': \"category\",\n",
    " 'e21': \"category\",\n",
    " 'e22': \"category\",\n",
    " 'e24': \"category\",\n",
    " 'e25': \"category\",\n",
    " 'e17': \"category\",\n",
    " 'e18': \"category\",\n",
    " 'e19': \"category\",\n",
    " 'e20': \"category\",\n",
    " 'f03': \"category\",\n",
    " 'f04': \"category\",\n",
    " 'f05': \"category\",\n",
    " 'f07': \"category\",\n",
    " 'f09': \"category\",\n",
    " 'f27': \"category\",\n",
    " 'f29': \"category\",\n",
    " 'f30': \"category\",\n",
    " 'f33': \"category\",\n",
    " 'f34': \"category\",\n",
    " 'f10': \"category\",\n",
    " 'a04': 'int16',\n",
    " 'a05': 'int8',\n",
    " 'a06': 'int8',\n",
    " 'a07': 'int8',\n",
    " 'a08': 'int8',\n",
    " 'a09': 'int8',\n",
    " 'a14': 'int8',\n",
    " 'a15': 'int8',\n",
    " 'b01': 'int8',\n",
    " 'b05': 'int8',\n",
    " 'b06': 'int8',\n",
    " 'c01': 'int8',\n",
    " 'c03': 'int8',\n",
    " 'd01': 'int8',\n",
    " 'd02': 'int8',\n",
    " 'd03': 'int8',\n",
    " 'e02': 'int8',\n",
    " 'e04': 'int8',\n",
    " 'e05': 'int8',\n",
    " 'e06': 'int8',\n",
    " 'e07': 'int8',\n",
    " 'e08': 'int8',\n",
    " 'e09': 'int8',\n",
    " 'e12': 'int8',\n",
    " 'e15': 'int8',\n",
    " 'e16': 'int8',\n",
    " 'e23': 'int8',\n",
    " 'f01': 'int8',\n",
    " 'f02': 'int8',\n",
    " 'f06': 'int8',\n",
    " 'f08': 'int8',\n",
    " 'f11': 'int8',\n",
    " 'f13': 'int8',\n",
    " 'f15': 'int8',\n",
    " 'f16': 'int8',\n",
    " 'f17': 'int8',\n",
    " 'f18': 'int8',\n",
    " 'f19': 'int8',\n",
    " 'f20': 'int8',\n",
    " 'f21': 'int8',\n",
    " 'f22': 'int8',\n",
    " 'f23': 'int8',\n",
    " 'f24': 'int8',\n",
    " 'f25': 'int8',\n",
    " 'f26': 'int8',\n",
    " 'f28': 'int8',\n",
    " 'f31': 'int8',\n",
    " 'f32': 'int8',\n",
    " 'unique_id': 'int64'}\n"
   ]
  },
  {
   "cell_type": "code",
   "execution_count": 5,
   "metadata": {},
   "outputs": [],
   "source": [
    "dtypes_object = {\n",
    " 'a01': \"O\",\n",
    " 'a02': \"O\",\n",
    " 'a03': \"O\",\n",
    " 'a10': \"O\",\n",
    " 'a11': \"int8\",\n",
    " 'a12': \"O\",\n",
    " 'a13': \"O\",\n",
    " 'a16': \"O\",\n",
    " 'a17': \"O\",\n",
    " 'a18': \"O\",\n",
    " 'a19': \"O\",\n",
    " 'a20': \"O\",\n",
    " 'b02': \"O\",\n",
    " 'b03': \"O\",\n",
    " 'b04': \"O\",\n",
    " 'b07': \"O\",\n",
    " 'c02': \"O\",\n",
    " 'c04': \"O\",\n",
    " 'c05': \"O\",\n",
    " 'c06': \"O\",\n",
    " 'c07': \"O\",\n",
    " 'c08': \"O\",\n",
    " 'c09': \"O\",\n",
    " 'e01': \"O\",\n",
    " 'e03': \"O\",\n",
    " 'e11': \"O\",\n",
    " 'e13': \"O\",\n",
    " 'e14': \"O\",\n",
    " 'e21': \"O\",\n",
    " 'e22': \"O\",\n",
    " 'e24': \"O\",\n",
    " 'e25': \"O\",\n",
    " 'e17': \"O\",\n",
    " 'e18': \"O\",\n",
    " 'e19': \"O\",\n",
    " 'e20': \"O\",\n",
    " 'f03': \"O\",\n",
    " 'f04': \"O\",\n",
    " 'f05': \"O\",\n",
    " 'f07': \"O\",\n",
    " 'f09': \"O\",\n",
    " 'f27': \"O\",\n",
    " 'f29': \"O\",\n",
    " 'f30': \"O\",\n",
    " 'f33': \"O\",\n",
    " 'f34': \"O\",\n",
    " 'f10': \"O\",\n",
    " 'a04': 'int16',\n",
    " 'a05': 'int8',\n",
    " 'a06': 'int8',\n",
    " 'a07': 'int8',\n",
    " 'a08': 'int8',\n",
    " 'a09': 'int8',\n",
    " 'a14': 'int8',\n",
    " 'a15': 'int8',\n",
    " 'b01': 'int8',\n",
    " 'b05': 'int8',\n",
    " 'b06': 'int8',\n",
    " 'c01': 'int8',\n",
    " 'c03': 'int8',\n",
    " 'd01': 'int8',\n",
    " 'd02': 'int8',\n",
    " 'd03': 'int8',\n",
    " 'e02': 'int8',\n",
    " 'e04': 'int8',\n",
    " 'e05': 'int8',\n",
    " 'e06': 'int8',\n",
    " 'e07': 'int8',\n",
    " 'e08': 'int8',\n",
    " 'e09': 'int8',\n",
    " 'e12': 'int8',\n",
    " 'e15': 'int8',\n",
    " 'e16': 'int8',\n",
    " 'e23': 'int8',\n",
    " 'f01': 'int8',\n",
    " 'f02': 'int8',\n",
    " 'f06': 'int8',\n",
    " 'f08': 'int8',\n",
    " 'f11': 'int8',\n",
    " 'f13': 'int8',\n",
    " 'f15': 'int8',\n",
    " 'f16': 'int8',\n",
    " 'f17': 'int8',\n",
    " 'f18': 'int8',\n",
    " 'f19': 'int8',\n",
    " 'f20': 'int8',\n",
    " 'f21': 'int8',\n",
    " 'f22': 'int8',\n",
    " 'f23': 'int8',\n",
    " 'f24': 'int8',\n",
    " 'f25': 'int8',\n",
    " 'f26': 'int8',\n",
    " 'f28': 'int8',\n",
    " 'f31': 'int8',\n",
    " 'f32': 'int8',\n",
    " 'unique_id': 'int64'}"
   ]
  },
  {
   "cell_type": "code",
   "execution_count": 6,
   "metadata": {},
   "outputs": [],
   "source": [
    "df_train_1m = pd.read_csv(dirRawData + 'train_1m.csv',\n",
    "                          na_values = 'NA',\n",
    "                          dtype=dtypes_cat)\n"
   ]
  },
  {
   "cell_type": "code",
   "execution_count": 7,
   "metadata": {},
   "outputs": [
    {
     "data": {
      "text/plain": [
       "(1000000, 97)"
      ]
     },
     "execution_count": 7,
     "metadata": {},
     "output_type": "execute_result"
    }
   ],
   "source": [
    "df_train_1m.shape"
   ]
  },
  {
   "cell_type": "code",
   "execution_count": 8,
   "metadata": {},
   "outputs": [
    {
     "data": {
      "text/html": [
       "<div>\n",
       "<style scoped>\n",
       "    .dataframe tbody tr th:only-of-type {\n",
       "        vertical-align: middle;\n",
       "    }\n",
       "\n",
       "    .dataframe tbody tr th {\n",
       "        vertical-align: top;\n",
       "    }\n",
       "\n",
       "    .dataframe thead th {\n",
       "        text-align: right;\n",
       "    }\n",
       "</style>\n",
       "<table border=\"1\" class=\"dataframe\">\n",
       "  <thead>\n",
       "    <tr style=\"text-align: right;\">\n",
       "      <th></th>\n",
       "      <th>target</th>\n",
       "      <th>a01</th>\n",
       "      <th>a02</th>\n",
       "      <th>a03</th>\n",
       "      <th>a10</th>\n",
       "      <th>a12</th>\n",
       "      <th>a13</th>\n",
       "      <th>a16</th>\n",
       "      <th>a17</th>\n",
       "      <th>a18</th>\n",
       "      <th>...</th>\n",
       "      <th>f21</th>\n",
       "      <th>f22</th>\n",
       "      <th>f23</th>\n",
       "      <th>f24</th>\n",
       "      <th>f25</th>\n",
       "      <th>f26</th>\n",
       "      <th>f28</th>\n",
       "      <th>f31</th>\n",
       "      <th>f32</th>\n",
       "      <th>unique_id</th>\n",
       "    </tr>\n",
       "  </thead>\n",
       "  <tbody>\n",
       "    <tr>\n",
       "      <th>0</th>\n",
       "      <td>1</td>\n",
       "      <td>D</td>\n",
       "      <td>C</td>\n",
       "      <td>H</td>\n",
       "      <td>Z</td>\n",
       "      <td>C</td>\n",
       "      <td>A</td>\n",
       "      <td>Z</td>\n",
       "      <td>Z</td>\n",
       "      <td>F</td>\n",
       "      <td>...</td>\n",
       "      <td>0</td>\n",
       "      <td>0</td>\n",
       "      <td>0</td>\n",
       "      <td>0</td>\n",
       "      <td>0</td>\n",
       "      <td>0</td>\n",
       "      <td>5</td>\n",
       "      <td>0</td>\n",
       "      <td>0</td>\n",
       "      <td>1</td>\n",
       "    </tr>\n",
       "    <tr>\n",
       "      <th>1</th>\n",
       "      <td>1</td>\n",
       "      <td>D</td>\n",
       "      <td>C</td>\n",
       "      <td>H</td>\n",
       "      <td>Z</td>\n",
       "      <td>C</td>\n",
       "      <td>A</td>\n",
       "      <td>Z</td>\n",
       "      <td>Z</td>\n",
       "      <td>F</td>\n",
       "      <td>...</td>\n",
       "      <td>0</td>\n",
       "      <td>0</td>\n",
       "      <td>0</td>\n",
       "      <td>0</td>\n",
       "      <td>0</td>\n",
       "      <td>0</td>\n",
       "      <td>5</td>\n",
       "      <td>0</td>\n",
       "      <td>0</td>\n",
       "      <td>2</td>\n",
       "    </tr>\n",
       "    <tr>\n",
       "      <th>2</th>\n",
       "      <td>0</td>\n",
       "      <td>D</td>\n",
       "      <td>C</td>\n",
       "      <td>H</td>\n",
       "      <td>Z</td>\n",
       "      <td>C</td>\n",
       "      <td>A</td>\n",
       "      <td>Z</td>\n",
       "      <td>Z</td>\n",
       "      <td>F</td>\n",
       "      <td>...</td>\n",
       "      <td>0</td>\n",
       "      <td>0</td>\n",
       "      <td>0</td>\n",
       "      <td>0</td>\n",
       "      <td>0</td>\n",
       "      <td>0</td>\n",
       "      <td>5</td>\n",
       "      <td>0</td>\n",
       "      <td>0</td>\n",
       "      <td>3</td>\n",
       "    </tr>\n",
       "  </tbody>\n",
       "</table>\n",
       "<p>3 rows × 97 columns</p>\n",
       "</div>"
      ],
      "text/plain": [
       "   target a01 a02 a03 a10 a12 a13 a16 a17 a18  ... f21 f22 f23 f24 f25 f26  \\\n",
       "0       1   D   C   H   Z   C   A   Z   Z   F  ...   0   0   0   0   0   0   \n",
       "1       1   D   C   H   Z   C   A   Z   Z   F  ...   0   0   0   0   0   0   \n",
       "2       0   D   C   H   Z   C   A   Z   Z   F  ...   0   0   0   0   0   0   \n",
       "\n",
       "  f28 f31 f32 unique_id  \n",
       "0   5   0   0         1  \n",
       "1   5   0   0         2  \n",
       "2   5   0   0         3  \n",
       "\n",
       "[3 rows x 97 columns]"
      ]
     },
     "execution_count": 8,
     "metadata": {},
     "output_type": "execute_result"
    }
   ],
   "source": [
    "df_train_1m.head(3)"
   ]
  },
  {
   "cell_type": "code",
   "execution_count": 9,
   "metadata": {},
   "outputs": [
    {
     "name": "stdout",
     "output_type": "stream",
     "text": [
      "df_train_1m is using 0.104 gig\n"
     ]
    }
   ],
   "source": [
    "# How much memory is df_train_1m using?\n",
    "mem_used = df_train_1m.memory_usage().sum() / (2<<29)\n",
    "print(\"df_train_1m is using {:.3f} gig\".format(mem_used))\n",
    "\n",
    "del mem_used"
   ]
  },
  {
   "cell_type": "code",
   "execution_count": 10,
   "metadata": {},
   "outputs": [
    {
     "name": "stdout",
     "output_type": "stream",
     "text": [
      "df_train_1m:  (1000000, 97)\n"
     ]
    }
   ],
   "source": [
    "print('df_train_1m: ', df_train_1m.shape)"
   ]
  },
  {
   "cell_type": "code",
   "execution_count": 11,
   "metadata": {
    "colab": {
     "base_uri": "https://localhost:8080/",
     "height": 346
    },
    "colab_type": "code",
    "executionInfo": {
     "elapsed": 949,
     "status": "ok",
     "timestamp": 1562668994111,
     "user": {
      "displayName": "K a l o u",
      "photoUrl": "https://lh4.googleusercontent.com/-EYTbYeNdLqk/AAAAAAAAAAI/AAAAAAAAADk/OD6CDp5FiG4/s64/photo.jpg",
      "userId": "10262331298445208932"
     },
     "user_tz": -60
    },
    "id": "by7yabbAQKu2",
    "outputId": "bb24b223-d4eb-4c1e-9c77-90527384d8ec"
   },
   "outputs": [
    {
     "data": {
      "text/html": [
       "<div>\n",
       "<style scoped>\n",
       "    .dataframe tbody tr th:only-of-type {\n",
       "        vertical-align: middle;\n",
       "    }\n",
       "\n",
       "    .dataframe tbody tr th {\n",
       "        vertical-align: top;\n",
       "    }\n",
       "\n",
       "    .dataframe thead th {\n",
       "        text-align: right;\n",
       "    }\n",
       "</style>\n",
       "<table border=\"1\" class=\"dataframe\">\n",
       "  <thead>\n",
       "    <tr style=\"text-align: right;\">\n",
       "      <th></th>\n",
       "      <th>target</th>\n",
       "      <th>a04</th>\n",
       "      <th>a05</th>\n",
       "      <th>a06</th>\n",
       "      <th>a07</th>\n",
       "      <th>a08</th>\n",
       "      <th>a09</th>\n",
       "      <th>a11</th>\n",
       "      <th>a14</th>\n",
       "      <th>a15</th>\n",
       "      <th>...</th>\n",
       "      <th>f21</th>\n",
       "      <th>f22</th>\n",
       "      <th>f23</th>\n",
       "      <th>f24</th>\n",
       "      <th>f25</th>\n",
       "      <th>f26</th>\n",
       "      <th>f28</th>\n",
       "      <th>f31</th>\n",
       "      <th>f32</th>\n",
       "      <th>unique_id</th>\n",
       "    </tr>\n",
       "  </thead>\n",
       "  <tbody>\n",
       "    <tr>\n",
       "      <th>count</th>\n",
       "      <td>1000000.000000</td>\n",
       "      <td>1000000.000000</td>\n",
       "      <td>1000000.000000</td>\n",
       "      <td>1000000.00000</td>\n",
       "      <td>1000000.000000</td>\n",
       "      <td>1000000.000000</td>\n",
       "      <td>1000000.000000</td>\n",
       "      <td>1000000.000000</td>\n",
       "      <td>1000000.000000</td>\n",
       "      <td>1000000.000000</td>\n",
       "      <td>...</td>\n",
       "      <td>1000000.000000</td>\n",
       "      <td>1000000.000000</td>\n",
       "      <td>1000000.000000</td>\n",
       "      <td>1000000.000000</td>\n",
       "      <td>1000000.000000</td>\n",
       "      <td>1000000.000000</td>\n",
       "      <td>1000000.000000</td>\n",
       "      <td>1000000.000000</td>\n",
       "      <td>1000000.000000</td>\n",
       "      <td>1.000000e+06</td>\n",
       "    </tr>\n",
       "    <tr>\n",
       "      <th>mean</th>\n",
       "      <td>0.491048</td>\n",
       "      <td>7.066254</td>\n",
       "      <td>-9.367583</td>\n",
       "      <td>-9.32703</td>\n",
       "      <td>-9.385986</td>\n",
       "      <td>-0.728543</td>\n",
       "      <td>-0.759805</td>\n",
       "      <td>-9.439043</td>\n",
       "      <td>-8.882882</td>\n",
       "      <td>-1.211314</td>\n",
       "      <td>...</td>\n",
       "      <td>0.007523</td>\n",
       "      <td>0.054844</td>\n",
       "      <td>0.002139</td>\n",
       "      <td>0.006346</td>\n",
       "      <td>0.006593</td>\n",
       "      <td>0.006827</td>\n",
       "      <td>4.866512</td>\n",
       "      <td>-0.053210</td>\n",
       "      <td>-0.045587</td>\n",
       "      <td>5.752154e+05</td>\n",
       "    </tr>\n",
       "    <tr>\n",
       "      <th>std</th>\n",
       "      <td>0.499920</td>\n",
       "      <td>105.383285</td>\n",
       "      <td>29.035928</td>\n",
       "      <td>29.05040</td>\n",
       "      <td>29.029318</td>\n",
       "      <td>8.555270</td>\n",
       "      <td>9.115909</td>\n",
       "      <td>29.097942</td>\n",
       "      <td>29.582418</td>\n",
       "      <td>21.832745</td>\n",
       "      <td>...</td>\n",
       "      <td>0.088082</td>\n",
       "      <td>0.263397</td>\n",
       "      <td>0.046609</td>\n",
       "      <td>0.079798</td>\n",
       "      <td>0.081887</td>\n",
       "      <td>0.087741</td>\n",
       "      <td>0.736763</td>\n",
       "      <td>0.476026</td>\n",
       "      <td>0.460255</td>\n",
       "      <td>3.322109e+05</td>\n",
       "    </tr>\n",
       "    <tr>\n",
       "      <th>min</th>\n",
       "      <td>0.000000</td>\n",
       "      <td>-99.000000</td>\n",
       "      <td>-99.000000</td>\n",
       "      <td>-99.00000</td>\n",
       "      <td>-99.000000</td>\n",
       "      <td>-99.000000</td>\n",
       "      <td>-99.000000</td>\n",
       "      <td>-99.000000</td>\n",
       "      <td>-99.000000</td>\n",
       "      <td>-99.000000</td>\n",
       "      <td>...</td>\n",
       "      <td>0.000000</td>\n",
       "      <td>0.000000</td>\n",
       "      <td>0.000000</td>\n",
       "      <td>0.000000</td>\n",
       "      <td>0.000000</td>\n",
       "      <td>0.000000</td>\n",
       "      <td>0.000000</td>\n",
       "      <td>-3.000000</td>\n",
       "      <td>-3.000000</td>\n",
       "      <td>1.000000e+00</td>\n",
       "    </tr>\n",
       "    <tr>\n",
       "      <th>25%</th>\n",
       "      <td>0.000000</td>\n",
       "      <td>-99.000000</td>\n",
       "      <td>0.000000</td>\n",
       "      <td>0.00000</td>\n",
       "      <td>0.000000</td>\n",
       "      <td>0.000000</td>\n",
       "      <td>0.000000</td>\n",
       "      <td>0.000000</td>\n",
       "      <td>0.000000</td>\n",
       "      <td>2.000000</td>\n",
       "      <td>...</td>\n",
       "      <td>0.000000</td>\n",
       "      <td>0.000000</td>\n",
       "      <td>0.000000</td>\n",
       "      <td>0.000000</td>\n",
       "      <td>0.000000</td>\n",
       "      <td>0.000000</td>\n",
       "      <td>5.000000</td>\n",
       "      <td>0.000000</td>\n",
       "      <td>0.000000</td>\n",
       "      <td>2.873428e+05</td>\n",
       "    </tr>\n",
       "    <tr>\n",
       "      <th>50%</th>\n",
       "      <td>0.000000</td>\n",
       "      <td>12.000000</td>\n",
       "      <td>0.000000</td>\n",
       "      <td>0.00000</td>\n",
       "      <td>0.000000</td>\n",
       "      <td>0.000000</td>\n",
       "      <td>0.000000</td>\n",
       "      <td>0.000000</td>\n",
       "      <td>0.000000</td>\n",
       "      <td>3.000000</td>\n",
       "      <td>...</td>\n",
       "      <td>0.000000</td>\n",
       "      <td>0.000000</td>\n",
       "      <td>0.000000</td>\n",
       "      <td>0.000000</td>\n",
       "      <td>0.000000</td>\n",
       "      <td>0.000000</td>\n",
       "      <td>5.000000</td>\n",
       "      <td>0.000000</td>\n",
       "      <td>0.000000</td>\n",
       "      <td>5.750435e+05</td>\n",
       "    </tr>\n",
       "    <tr>\n",
       "      <th>75%</th>\n",
       "      <td>1.000000</td>\n",
       "      <td>60.000000</td>\n",
       "      <td>0.000000</td>\n",
       "      <td>0.00000</td>\n",
       "      <td>0.000000</td>\n",
       "      <td>0.000000</td>\n",
       "      <td>0.000000</td>\n",
       "      <td>0.000000</td>\n",
       "      <td>1.000000</td>\n",
       "      <td>5.000000</td>\n",
       "      <td>...</td>\n",
       "      <td>0.000000</td>\n",
       "      <td>0.000000</td>\n",
       "      <td>0.000000</td>\n",
       "      <td>0.000000</td>\n",
       "      <td>0.000000</td>\n",
       "      <td>0.000000</td>\n",
       "      <td>5.000000</td>\n",
       "      <td>0.000000</td>\n",
       "      <td>0.000000</td>\n",
       "      <td>8.628095e+05</td>\n",
       "    </tr>\n",
       "    <tr>\n",
       "      <th>max</th>\n",
       "      <td>1.000000</td>\n",
       "      <td>240.000000</td>\n",
       "      <td>3.000000</td>\n",
       "      <td>3.00000</td>\n",
       "      <td>1.000000</td>\n",
       "      <td>2.000000</td>\n",
       "      <td>2.000000</td>\n",
       "      <td>2.000000</td>\n",
       "      <td>3.000000</td>\n",
       "      <td>8.000000</td>\n",
       "      <td>...</td>\n",
       "      <td>3.000000</td>\n",
       "      <td>3.000000</td>\n",
       "      <td>3.000000</td>\n",
       "      <td>2.000000</td>\n",
       "      <td>3.000000</td>\n",
       "      <td>3.000000</td>\n",
       "      <td>5.000000</td>\n",
       "      <td>3.000000</td>\n",
       "      <td>3.000000</td>\n",
       "      <td>1.150802e+06</td>\n",
       "    </tr>\n",
       "  </tbody>\n",
       "</table>\n",
       "<p>8 rows × 51 columns</p>\n",
       "</div>"
      ],
      "text/plain": [
       "               target             a04             a05            a06  \\\n",
       "count  1000000.000000  1000000.000000  1000000.000000  1000000.00000   \n",
       "mean         0.491048        7.066254       -9.367583       -9.32703   \n",
       "std          0.499920      105.383285       29.035928       29.05040   \n",
       "min          0.000000      -99.000000      -99.000000      -99.00000   \n",
       "25%          0.000000      -99.000000        0.000000        0.00000   \n",
       "50%          0.000000       12.000000        0.000000        0.00000   \n",
       "75%          1.000000       60.000000        0.000000        0.00000   \n",
       "max          1.000000      240.000000        3.000000        3.00000   \n",
       "\n",
       "                  a07             a08             a09             a11  \\\n",
       "count  1000000.000000  1000000.000000  1000000.000000  1000000.000000   \n",
       "mean        -9.385986       -0.728543       -0.759805       -9.439043   \n",
       "std         29.029318        8.555270        9.115909       29.097942   \n",
       "min        -99.000000      -99.000000      -99.000000      -99.000000   \n",
       "25%          0.000000        0.000000        0.000000        0.000000   \n",
       "50%          0.000000        0.000000        0.000000        0.000000   \n",
       "75%          0.000000        0.000000        0.000000        0.000000   \n",
       "max          1.000000        2.000000        2.000000        2.000000   \n",
       "\n",
       "                  a14             a15  ...             f21             f22  \\\n",
       "count  1000000.000000  1000000.000000  ...  1000000.000000  1000000.000000   \n",
       "mean        -8.882882       -1.211314  ...        0.007523        0.054844   \n",
       "std         29.582418       21.832745  ...        0.088082        0.263397   \n",
       "min        -99.000000      -99.000000  ...        0.000000        0.000000   \n",
       "25%          0.000000        2.000000  ...        0.000000        0.000000   \n",
       "50%          0.000000        3.000000  ...        0.000000        0.000000   \n",
       "75%          1.000000        5.000000  ...        0.000000        0.000000   \n",
       "max          3.000000        8.000000  ...        3.000000        3.000000   \n",
       "\n",
       "                  f23             f24             f25             f26  \\\n",
       "count  1000000.000000  1000000.000000  1000000.000000  1000000.000000   \n",
       "mean         0.002139        0.006346        0.006593        0.006827   \n",
       "std          0.046609        0.079798        0.081887        0.087741   \n",
       "min          0.000000        0.000000        0.000000        0.000000   \n",
       "25%          0.000000        0.000000        0.000000        0.000000   \n",
       "50%          0.000000        0.000000        0.000000        0.000000   \n",
       "75%          0.000000        0.000000        0.000000        0.000000   \n",
       "max          3.000000        2.000000        3.000000        3.000000   \n",
       "\n",
       "                  f28             f31             f32     unique_id  \n",
       "count  1000000.000000  1000000.000000  1000000.000000  1.000000e+06  \n",
       "mean         4.866512       -0.053210       -0.045587  5.752154e+05  \n",
       "std          0.736763        0.476026        0.460255  3.322109e+05  \n",
       "min          0.000000       -3.000000       -3.000000  1.000000e+00  \n",
       "25%          5.000000        0.000000        0.000000  2.873428e+05  \n",
       "50%          5.000000        0.000000        0.000000  5.750435e+05  \n",
       "75%          5.000000        0.000000        0.000000  8.628095e+05  \n",
       "max          5.000000        3.000000        3.000000  1.150802e+06  \n",
       "\n",
       "[8 rows x 51 columns]"
      ]
     },
     "execution_count": 11,
     "metadata": {},
     "output_type": "execute_result"
    }
   ],
   "source": [
    "df_train_1m.describe()"
   ]
  },
  {
   "cell_type": "markdown",
   "metadata": {
    "colab_type": "text",
    "id": "j8AMlER_VMrl"
   },
   "source": [
    "**Checking the cardinality**\n",
    "\n",
    "For my own work, I decided to start of with anything above cardinality of 30 to be treated as an hccv. This is not necessarily optimal and you should feel to ignore this."
   ]
  },
  {
   "cell_type": "code",
   "execution_count": 12,
   "metadata": {
    "colab": {
     "base_uri": "https://localhost:8080/",
     "height": 1000
    },
    "colab_type": "code",
    "executionInfo": {
     "elapsed": 952,
     "status": "ok",
     "timestamp": 1562669002673,
     "user": {
      "displayName": "K a l o u",
      "photoUrl": "https://lh4.googleusercontent.com/-EYTbYeNdLqk/AAAAAAAAAAI/AAAAAAAAADk/OD6CDp5FiG4/s64/photo.jpg",
      "userId": "10262331298445208932"
     },
     "user_tz": -60
    },
    "id": "00Zk0pMKQKu7",
    "outputId": "befda2d9-a124-4803-d27d-21f1d1dfe71b"
   },
   "outputs": [
    {
     "name": "stdout",
     "output_type": "stream",
     "text": [
      "2\n",
      "35575\n"
     ]
    },
    {
     "data": {
      "text/plain": [
       "e17       95\n",
       "e18      820\n",
       "e19    35575\n",
       "f10     1864\n",
       "dtype: int64"
      ]
     },
     "execution_count": 12,
     "metadata": {},
     "output_type": "execute_result"
    }
   ],
   "source": [
    "cols_numeric = list(df_train_1m.select_dtypes(include=[np.number]).columns.values)\n",
    "cols_notNumeric = [var for var in df_train_1m.columns if var not in cols_numeric]\n",
    "srs_card = df_train_1m[cols_notNumeric].nunique()\n",
    "print(srs_card.min())\n",
    "print(srs_card.max())\n",
    "srs_card[srs_card>30]"
   ]
  },
  {
   "cell_type": "code",
   "execution_count": 13,
   "metadata": {},
   "outputs": [],
   "source": [
    "vars_ind_hccv = ['e17', 'e18', 'e19', 'f10']"
   ]
  },
  {
   "cell_type": "markdown",
   "metadata": {},
   "source": [
    "**Read in the test data**"
   ]
  },
  {
   "cell_type": "markdown",
   "metadata": {},
   "source": [
    "Saving disk space by reading in strings as factors is great - but how do we get the test data and the smaller train data set to have the same factor levels?\n",
    "\n",
    "I will read in factors as objects, and then manually convert each object to a factor with the same index for levels and the categories in df_train."
   ]
  },
  {
   "cell_type": "code",
   "execution_count": 14,
   "metadata": {},
   "outputs": [],
   "source": [
    "df_train_250k = pd.read_csv(dirRawData + 'train_250k.csv',\n",
    "                       na_values = 'NA',\n",
    "                       dtype=dtypes_object)\n",
    "\n",
    "df_test = pd.read_csv(dirRawData + 'test.csv',\n",
    "                      na_values = 'NA',\n",
    "                      dtype=dtypes_object)\n"
   ]
  },
  {
   "cell_type": "code",
   "execution_count": 15,
   "metadata": {},
   "outputs": [
    {
     "name": "stdout",
     "output_type": "stream",
     "text": [
      "Index(['A', 'B', 'D', 'F', 'G', 'H', 'C'], dtype='object')\n",
      "Index(['A', 'B', 'C', 'D', 'E', 'F', 'G', 'H'], dtype='object')\n",
      "Index(['A', 'B', 'C', 'D', 'E', 'F', 'G', 'H', 'I', 'J', 'K', 'L'], dtype='object')\n",
      "Index(['N', 'Y', 'Z'], dtype='object')\n",
      "Index(['A', 'B', 'C', 'D', 'E'], dtype='object')\n",
      "Index(['A', 'B', 'C', 'E', 'F'], dtype='object')\n",
      "Index(['N', 'Y', 'Z'], dtype='object')\n",
      "Index(['N', 'Y', 'Z'], dtype='object')\n",
      "Index(['E', 'F', 'D'], dtype='object')\n",
      "Index(['N', 'Y'], dtype='object')\n",
      "Index(['N', 'Y'], dtype='object')\n",
      "Index(['N', 'Y'], dtype='object')\n",
      "Index(['N', 'Y'], dtype='object')\n",
      "Index(['A', 'B', 'C', 'D', 'E', 'F', 'G', 'H', 'I'], dtype='object')\n",
      "Index(['A', 'B', 'F'], dtype='object')\n",
      "Index(['Z', 'B'], dtype='object')\n",
      "Index(['A', 'B', 'C'], dtype='object')\n",
      "Index(['A', 'B', 'C'], dtype='object')\n",
      "Index(['A', 'B', 'C'], dtype='object')\n",
      "Index(['A', 'B', 'C'], dtype='object')\n",
      "Index(['A', 'B', 'C'], dtype='object')\n",
      "Index(['A', 'B', 'C'], dtype='object')\n",
      "Index(['A', 'B', 'C'], dtype='object')\n",
      "Index(['A', 'B', 'C', 'D', 'E', 'G', 'H', 'L', 'N', 'Q', 'F', 'I', 'Z', 'P',\n",
      "       'J'],\n",
      "      dtype='object')\n",
      "Index(['A', 'B', 'C', 'D', 'E', 'F', 'G', 'Z'], dtype='object')\n",
      "Index(['A', 'B', 'C', 'D', 'E', 'F', 'I', 'L', 'J', 'K', 'G', 'N', 'Z', 'M',\n",
      "       'P', 'H', 'Q', 'R', 'S', 'O'],\n",
      "      dtype='object')\n",
      "Index(['A', 'B', 'C', 'D', 'E', 'F', 'Z'], dtype='object')\n",
      "Index(['A', 'B', 'C', 'D', 'E', 'F', 'G', 'H', 'I', 'J', 'K', 'L', 'M', 'N',\n",
      "       'O', 'P', 'Q'],\n",
      "      dtype='object')\n",
      "Index(['A', 'B'], dtype='object')\n",
      "Index(['A', 'B', 'C', 'D', 'E', 'G', 'H', 'L', 'N', 'Q', 'F', 'I', 'Z', 'P',\n",
      "       'J', 'M'],\n",
      "      dtype='object')\n",
      "Index(['A', 'B'], dtype='object')\n",
      "Index(['03C05', '04CCF', '07C18', '09E5C', '0ECF8', '1109E', '1497C', '14C81',\n",
      "       '1A53A', '20330', '2F912', '32130', '375A4', '38CF0', '3F157', '3FF58',\n",
      "       '43CF2', '48FBD', '4ABD2', '4F1E7', '4FE32', '56182', '5BE25', '5E919',\n",
      "       '608A9', '65C11', '67D25', '6858E', '68981', '74D6A', '78AA3', '7B0EB',\n",
      "       '835CA', '861C8', '8F4FD', '8F6C5', '90DBD', '920BD', '953DA', '96A17',\n",
      "       '975FB', 'A6031', 'A9BE7', 'AB005', 'B27E0', 'B6A15', 'BB69B', 'BC031',\n",
      "       'C3931', 'C93B9', 'D3FBD', 'D9A8F', 'E16A1', 'E4D2A', 'E8EE8', 'EB277',\n",
      "       'F0464', 'F1B27', 'F33BC', 'F48F1', 'FCF3F', 'FD1F5', '13BF6', 'E7DC0',\n",
      "       'E8690', 'F61F8', '8BB9E', 'EF05D', '02202', '0EF9A', '78FF0', 'E8F97',\n",
      "       '8FE54', '00B26', '774C6', '56323', 'F79B4', 'D0398', 'F6605', 'DCB4F',\n",
      "       '70A5D', '56C24', '2FC98', '508F0', 'C3D8A', '75B0E', 'B5A36', '096A5',\n",
      "       'F6601', 'A77D3', '9949A', 'F3309', '89883', '5E220', 'CADD0'],\n",
      "      dtype='object')\n",
      "Index(['0021E', '0049B', '00971', '00B7A', '01550', '015F6', '016FF', '02E01',\n",
      "       '03B14', '03E03',\n",
      "       ...\n",
      "       '62082', 'BD2B9', 'C4EDF', '4ED51', '7C6D4', '9C6FF', '055F0', '5A007',\n",
      "       'A92C0', 'DC947'],\n",
      "      dtype='object', length=820)\n",
      "Index(['00163', '00381', '00548', '005E5', '006D2', '008AC', '009E1', '00C3B',\n",
      "       '010C2', '0111D',\n",
      "       ...\n",
      "       'FB522', 'FC8DC', '29723', '64189', '66AF2', '7F57D', '9FE3A', 'A1206',\n",
      "       'CE0BF', 'F3082'],\n",
      "      dtype='object', length=35575)\n",
      "Index(['025D7', '2780B', '3424D', '3D6DA', '40EE1', '54CD2', '87D4E', 'A4893',\n",
      "       'A5DA8', 'A7C3E', 'A9C76', 'AA9AE', 'AF683', 'B2D1C', 'B805E', 'BA3CA',\n",
      "       'C8FEF', 'D53C5', 'D913A', 'DCD42', 'E85F6', 'F3D59', 'FBD67', 'FFA09',\n",
      "       'DCF2B', '40897', 'BE271', '30146'],\n",
      "      dtype='object')\n",
      "Index(['A', 'B', 'C', 'D', 'E', 'F', 'G', 'Z'], dtype='object')\n",
      "Index(['A', 'B'], dtype='object')\n",
      "Index(['A', 'B', 'C', 'D', 'Z'], dtype='object')\n",
      "Index(['A', 'B', 'C', 'Z'], dtype='object')\n",
      "Index(['A', 'B', 'C', 'D', 'E', 'F', 'G', 'H', 'J', 'K', 'M', 'I', 'L', 'Z'], dtype='object')\n",
      "Index(['A', 'B', 'C', 'D', 'E', 'F', 'X'], dtype='object')\n",
      "Index(['B', 'D', 'E', 'F', 'G', 'A', 'C', 'X'], dtype='object')\n",
      "Index(['A', 'B'], dtype='object')\n",
      "Index(['N', 'Y'], dtype='object')\n",
      "Index(['N', 'Y'], dtype='object')\n",
      "Index(['AAA', 'AAB', 'AAC', 'AAD', 'AAF', 'AAG', 'AAH', 'AAL', 'AAM', 'AAN',\n",
      "       ...\n",
      "       'BCC', 'AAX', 'APX', 'CMJ', 'AJO', 'BRL', 'AVX', 'AZG', 'CTR', 'CPW'],\n",
      "      dtype='object', length=1864)\n"
     ]
    }
   ],
   "source": [
    "# find the categorical vars - this includes the hccv\n",
    "vars_ind_categorical = list(df_train_1m.columns[df_train_1m.dtypes == 'category'])\n",
    "\n",
    "# Check how the index of the levels of factors is stored, and print them out\n",
    "for var in vars_ind_categorical:\n",
    "    print(df_train_1m[var].cat.categories)\n",
    "    \n",
    "# In this version notebook ,the first printed line shows the issue, code C is last\n",
    "# in the index:\n",
    "# Index(['A', 'B', 'D', 'F', 'G', 'H', 'C'], dtype='object')"
   ]
  },
  {
   "cell_type": "code",
   "execution_count": 16,
   "metadata": {},
   "outputs": [
    {
     "name": "stdout",
     "output_type": "stream",
     "text": [
      "df_train_250k BEFORE is using 0.101 gig\n",
      "df_test BEFORE is using 0.118 gig\n",
      "df_train_250k AFTER is using 0.029 gig\n",
      "df_test AFTER is using 0.031 gig\n"
     ]
    }
   ],
   "source": [
    "# Now for each relevant variable in df_test, replace it with a categorical\n",
    "# Let's also see sizes of datasets before and after\n",
    "\n",
    "mem_used = df_train_250k.memory_usage().sum() / (2<<29)\n",
    "print(\"df_train_250k BEFORE is using {:.3f} gig\".format(mem_used))\n",
    "\n",
    "mem_used = df_test.memory_usage().sum() / (2<<29)\n",
    "print(\"df_test BEFORE is using {:.3f} gig\".format(mem_used))\n",
    "\n",
    "for var in vars_ind_categorical:\n",
    "    var_levels = df_train_1m[var].cat.categories.values\n",
    "    df_train_250k[var] = pd.Categorical(df_train_250k[var], categories=var_levels, ordered=False)\n",
    "    df_test[var]       = pd.Categorical(df_test[var],       categories=var_levels, ordered=False)\n",
    "    \n",
    "mem_used = df_train_250k.memory_usage().sum() / (2<<29)\n",
    "print(\"df_train_250k AFTER is using {:.3f} gig\".format(mem_used))\n",
    "\n",
    "mem_used = df_test.memory_usage().sum() / (2<<29)\n",
    "print(\"df_test AFTER is using {:.3f} gig\".format(mem_used))\n"
   ]
  },
  {
   "cell_type": "code",
   "execution_count": 17,
   "metadata": {},
   "outputs": [
    {
     "data": {
      "text/plain": [
       "Index(['A', 'B', 'D', 'F', 'G', 'H', 'C'], dtype='object')"
      ]
     },
     "execution_count": 17,
     "metadata": {},
     "output_type": "execute_result"
    }
   ],
   "source": [
    "# Check that the index for a01 is stored in the same order as in df_train.  It is.\n",
    "df_test['a01'].cat.categories"
   ]
  },
  {
   "cell_type": "markdown",
   "metadata": {
    "colab_type": "text",
    "id": "A0b8oBZWQKvB"
   },
   "source": [
    "**Define variable lists**\n",
    "\n",
    " - var_dep: the target feature\n",
    " - vars_notToUse:  the variables that will not be included in the experiments\n",
    " - vars_ind: the independent variables\n",
    " - vars_ind_numeric: the numeric independent variables\n",
    " - vars_ind_hccv: Three high cardinality categorical variables\n",
    " - vars_ind_categorical: the categorical independent variables."
   ]
  },
  {
   "cell_type": "code",
   "execution_count": 18,
   "metadata": {
    "colab": {},
    "colab_type": "code",
    "id": "ozlPX04mQKvC"
   },
   "outputs": [],
   "source": [
    "vars_all = df_train_1m.columns.values\n",
    "var_dep = ['target']\n",
    "\n",
    "vars_notToUse = ['unique_id'] \n",
    "vars_ind = [var for var in vars_all if var not in (vars_notToUse + var_dep)]\n",
    "\n",
    "vars_ind_numeric = [var for var in vars_ind if var not in vars_ind_categorical]\n"
   ]
  },
  {
   "cell_type": "code",
   "execution_count": 19,
   "metadata": {
    "colab": {
     "base_uri": "https://localhost:8080/",
     "height": 51
    },
    "colab_type": "code",
    "executionInfo": {
     "elapsed": 497,
     "status": "ok",
     "timestamp": 1562669040577,
     "user": {
      "displayName": "K a l o u",
      "photoUrl": "https://lh4.googleusercontent.com/-EYTbYeNdLqk/AAAAAAAAAAI/AAAAAAAAADk/OD6CDp5FiG4/s64/photo.jpg",
      "userId": "10262331298445208932"
     },
     "user_tz": -60
    },
    "id": "2nK6P-wTQKvF",
    "outputId": "8c6abf8c-8c86-457d-8f19-86595fbb65f5"
   },
   "outputs": [
    {
     "data": {
      "text/plain": [
       "Series([], dtype: int64)"
      ]
     },
     "execution_count": 19,
     "metadata": {},
     "output_type": "execute_result"
    }
   ],
   "source": [
    "srs_missing = df_train_1m.isnull().sum(axis=0)\n",
    "srs_missing[srs_missing > 0] \n",
    "# there are no missing data - but REMEMBER, numeric value -99 is missing!!"
   ]
  },
  {
   "cell_type": "markdown",
   "metadata": {
    "colab_type": "text",
    "id": "jvmeLdr1bWt-"
   },
   "source": [
    "**Correlation of the numerical variables**"
   ]
  },
  {
   "cell_type": "markdown",
   "metadata": {
    "colab_type": "text",
    "id": "l1D-9ldcvp0k"
   },
   "source": [
    "Most of the numerical variables do not have high correlation between each other. However, there are some set of variables e.g. 'v_num_98' with 'v_num_79' which have high correlation (white squares)."
   ]
  },
  {
   "cell_type": "code",
   "execution_count": 20,
   "metadata": {
    "colab": {
     "base_uri": "https://localhost:8080/",
     "height": 1000
    },
    "colab_type": "code",
    "executionInfo": {
     "elapsed": 5036,
     "status": "ok",
     "timestamp": 1562669456633,
     "user": {
      "displayName": "K a l o u",
      "photoUrl": "https://lh4.googleusercontent.com/-EYTbYeNdLqk/AAAAAAAAAAI/AAAAAAAAADk/OD6CDp5FiG4/s64/photo.jpg",
      "userId": "10262331298445208932"
     },
     "user_tz": -60
    },
    "id": "ytHM3lSXbV9c",
    "outputId": "e7fd9315-054b-424b-fc7e-6a9eca569260"
   },
   "outputs": [
    {
     "data": {
      "text/plain": [
       "<AxesSubplot:>"
      ]
     },
     "execution_count": 20,
     "metadata": {},
     "output_type": "execute_result"
    },
    {
     "data": {
      "image/png": "[encoded data removed]",
      "text/plain": [
       "<Figure size 1584x1584 with 2 Axes>"
      ]
     },
     "metadata": {
      "needs_background": "light"
     },
     "output_type": "display_data"
    }
   ],
   "source": [
    "corr = df_train_1m.loc[1:10000, vars_ind_numeric].corr()\n",
    "ax = plt.subplots(figsize=(22, 22))\n",
    "sns.heatmap(corr, \n",
    "        xticklabels=corr.columns,\n",
    "        yticklabels=corr.columns)"
   ]
  },
  {
   "cell_type": "markdown",
   "metadata": {
    "colab_type": "text",
    "id": "yz01-tJSbdpv"
   },
   "source": [
    "### Save Data"
   ]
  },
  {
   "cell_type": "markdown",
   "metadata": {},
   "source": [
    "I tried two ways of storing the data.  hd5 file stores and pickle.\n",
    "\n",
    "We have already been using pickle, a traditional Python way to store any object.  Objects are convered to a stream of bytes and sent to a file.\n",
    "\n",
    "hd5 filestores:  See https://www.pythonforthelab.com/blog/how-to-use-hdf5-files-in-python/\n",
    "\n",
    "It is efficient for storing homoegeneous blocks of data.  It allows retrieval of specific bits of the data stored in it - unlike pickle where you have to load the whole object even if you only want part of the data.  This means that hd5 is very good for storing huge files.\n",
    "\n",
    "By the way, our data table is not homogeneous (since it has categories and integers).  Also the categories are not a type it is comfortable with.  So we should not expect good performance. \n",
    "\n",
    "The pickle output is smaller (259m vs 295m) and took much less time to store (1.69s vs 7.95s).\n",
    "\n",
    "For the moment I will continue to use pickle."
   ]
  },
  {
   "cell_type": "code",
   "execution_count": 21,
   "metadata": {},
   "outputs": [],
   "source": [
    "#%%time\n",
    "#store = pd.HDFStore(dirPData + '01_df_o.h5')\n",
    "#df_train.to_hdf(store, 'df_train', format=\"table\")\n",
    "#df_test.to_hdf(store, 'df_test', format=\"table\")\n",
    "#store.close()\n",
    "\n",
    "#CPU times: user 5.37 s, sys: 971 ms, total: 6.34 s\n",
    "#Wall time: 7.95 s"
   ]
  },
  {
   "cell_type": "code",
   "execution_count": 22,
   "metadata": {},
   "outputs": [
    {
     "name": "stdout",
     "output_type": "stream",
     "text": [
      "CPU times: user 94.8 ms, sys: 109 ms, total: 204 ms\n",
      "Wall time: 711 ms\n"
     ]
    }
   ],
   "source": [
    "%%time\n",
    "dict_ = {'df_train': df_train_1m,\n",
    "         'df_test': df_test}\n",
    "\n",
    "f_name = dirPData + '01_df_1m.pickle'\n",
    "with open(f_name, \"wb\") as f:\n",
    "    pickle.dump(dict_, f)\n",
    "del f_name, dict_\n"
   ]
  },
  {
   "cell_type": "code",
   "execution_count": 23,
   "metadata": {},
   "outputs": [
    {
     "name": "stdout",
     "output_type": "stream",
     "text": [
      "CPU times: user 47.1 ms, sys: 56.1 ms, total: 103 ms\n",
      "Wall time: 456 ms\n"
     ]
    }
   ],
   "source": [
    "%%time\n",
    "dict_ = {'df_train': df_train_250k,\n",
    "         'df_test': df_test}\n",
    "\n",
    "f_name = dirPData + '01_df_250k.pickle'\n",
    "with open(f_name, \"wb\") as f:\n",
    "    pickle.dump(dict_, f)\n",
    "del f_name, dict_\n"
   ]
  },
  {
   "cell_type": "code",
   "execution_count": 24,
   "metadata": {
    "colab": {},
    "colab_type": "code",
    "id": "XhNo40KqQKvb"
   },
   "outputs": [],
   "source": [
    "# store variable names to pickle\n",
    "dict_ = {'vars_ind_numeric': vars_ind_numeric,\n",
    "         'vars_ind_categorical': vars_ind_categorical,\n",
    "         'vars_ind_hccv': vars_ind_hccv,\n",
    "         'vars_notToUse': vars_notToUse,\n",
    "         'var_dep': var_dep}\n",
    "\n",
    "f_name = dirPData + '01_vars.pickle'\n",
    "with open(f_name, \"wb\") as f:\n",
    "    pickle.dump(dict_, f)\n",
    "del f_name, dict_"
   ]
  },
  {
   "cell_type": "code",
   "execution_count": null,
   "metadata": {
    "colab": {},
    "colab_type": "code",
    "id": "yTghNE3RQKvi"
   },
   "outputs": [],
   "source": []
  }
 ],
 "metadata": {
  "colab": {
   "collapsed_sections": [],
   "name": "*BriefEDA.ipynb",
   "provenance": [],
   "toc_visible": true,
   "version": "0.3.2"
  },
  "kernelspec": {
   "display_name": "Python 3",
   "language": "python",
   "name": "python3"
  },
  "language_info": {
   "codemirror_mode": {
    "name": "ipython",
    "version": 3
   },
   "file_extension": ".py",
   "mimetype": "text/x-python",
   "name": "python",
   "nbconvert_exporter": "python",
   "pygments_lexer": "ipython3",
   "version": "3.9.2"
  }
 },
 "nbformat": 4,
 "nbformat_minor": 1
}
