{
 "cells": [
  {
   "cell_type": "markdown",
   "id": "dddbd1aa",
   "metadata": {},
   "source": [
    "# Part 2\n",
    "\n",
    "### Problem Statement\n",
    "Train a (simple) penalised linear regression model on the competition data.\n",
    "- You should use a model from sklearn. You can use Ridge, LASSO or\n",
    "Elastic Net (or their CV versions).\n",
    "- For purposes of the competition, your prediction needs to be in the range\n",
    "0-1. Since you are using linear regression your predictions are likely to fall\n",
    "outside of this range. You should therefore clip your predictions to fall in\n",
    "this range.\n",
    "- You can use the smaller dataset for training and you can choose just a\n",
    "small number of the features. But you should:\n",
    "    * Choose at least two numeric variables\n",
    "    * Spline at least one of the numeric variables that you choose\n",
    "    * Choose at least one categorical variable and one-hot it\n",
    "- You should carry out some form of search for the best lambda. It does\n",
    "not need to be an exhaustive search.\n",
    "- Predict your model on the test data, clip the predictions to 0-1 and submit\n",
    "an entry. Take a screen-shot of your entry. Note that you should not\n",
    "expect a particularly good score."
   ]
  },
  {
   "cell_type": "markdown",
   "id": "fd055328",
   "metadata": {},
   "source": [
    "## Set-up"
   ]
  },
  {
   "cell_type": "markdown",
   "id": "05106764",
   "metadata": {},
   "source": [
    "### Import relevant libraries"
   ]
  },
  {
   "cell_type": "code",
   "execution_count": 1,
   "id": "10eaac09",
   "metadata": {},
   "outputs": [],
   "source": [
    "import os\n",
    "import numpy as np\n",
    "import pandas as pd\n",
    "import pickle\n",
    "from sklearn.model_selection import train_test_split, RepeatedKFold\n",
    "from sklearn.preprocessing import StandardScaler, OneHotEncoder, OrdinalEncoder\n",
    "from sklearn.compose import ColumnTransformer\n",
    "from sklearn.impute import SimpleImputer\n",
    "from sklearn.linear_model import Lasso, LassoCV, Ridge\n",
    "from sklearn.ensemble import ExtraTreesClassifier\n",
    "from sklearn.metrics import roc_auc_score\n",
    "import matplotlib.pyplot as plt"
   ]
  },
  {
   "cell_type": "markdown",
   "id": "f9497e94",
   "metadata": {},
   "source": [
    "### Set directories and paths"
   ]
  },
  {
   "cell_type": "code",
   "execution_count": 2,
   "id": "49621101",
   "metadata": {},
   "outputs": [
    {
     "name": "stdout",
     "output_type": "stream",
     "text": [
      "/home/jovyan/smm284-aml/assignment/jimmy\n"
     ]
    }
   ],
   "source": [
    "# set directories\n",
    "print(os.getcwd())\n",
    "dirRawData = os.path.join('..', 'input')\n",
    "dirPData   = os.path.join('..', 'PData')\n",
    "dirPOutput = os.path.join('..', 'POutput')"
   ]
  },
  {
   "cell_type": "markdown",
   "id": "561ad674",
   "metadata": {},
   "source": [
    "### Load data"
   ]
  },
  {
   "cell_type": "code",
   "execution_count": 3,
   "id": "f4a6f88f",
   "metadata": {
    "scrolled": true
   },
   "outputs": [],
   "source": [
    "# load data: 250k train data\n",
    "f_name = '01_df_250k.pickle'\n",
    "f_path = os.path.join(dirPData, f_name)\n",
    "PData = pickle.load(open(f_path, \"rb\"))\n",
    "\n",
    "# separate data into train/test set\n",
    "train_set = PData['df_train']\n",
    "test_set = PData['df_test']"
   ]
  },
  {
   "cell_type": "code",
   "execution_count": 4,
   "id": "bd050736",
   "metadata": {},
   "outputs": [],
   "source": [
    "# load variable metadata \n",
    "f_name = '01_vars.pickle'\n",
    "f_path = os.path.join(dirPData, f_name)\n",
    "var_meta = pickle.load(open(f_path, \"rb\"))\n",
    "\n",
    "# extract lists from metadata\n",
    "var_idx_num = var_meta['vars_ind_numeric']\n",
    "var_idx_cat = var_meta['vars_ind_categorical']\n",
    "var_idx_hccv = var_meta['vars_ind_hccv']\n",
    "var_idx_id = var_meta['vars_notToUse']\n",
    "var_idx_response = var_meta['var_dep']"
   ]
  },
  {
   "cell_type": "markdown",
   "id": "cf530df2",
   "metadata": {},
   "source": [
    "### Clean missing values"
   ]
  },
  {
   "cell_type": "code",
   "execution_count": 5,
   "id": "a98ed2f8",
   "metadata": {},
   "outputs": [],
   "source": [
    "# replace -99 values with np.nan\n",
    "train_set = train_set.replace(-99, np.nan)\n",
    "test_set = test_set.replace(-99, np.nan)"
   ]
  },
  {
   "cell_type": "code",
   "execution_count": 6,
   "id": "82f2056b",
   "metadata": {},
   "outputs": [
    {
     "data": {
      "text/plain": [
       "array([     0,      0,      0,      0,      0,      0,      0,      0,\n",
       "            0,      0,      0,      0,      0,      0,      0,      0,\n",
       "            0,      0,      0,      0,      0,      0,      0,      0,\n",
       "            0,      0,      0,      0,      0,      0,      0,      0,\n",
       "            0,      0,      0,      0,      0,      0,      0,      0,\n",
       "            0,      0,      0,      0,      0,      0,      0, 102984,\n",
       "        23788,  23788,  23788,   1852,   2090,  23898,  24321,  11673,\n",
       "        32806,  33764, 197803,   8895,   6151,  55544,  57869,  57136,\n",
       "            2,      0,      0,      0,      0,      0,      0,   1092,\n",
       "            0,      0,      0,      0,      0,      0,      0,      1,\n",
       "            1,      0,      0,      0,      0,      0,      0,      0,\n",
       "            0,      0,      0,      0,      0,      0,      0,      0,\n",
       "            0])"
      ]
     },
     "execution_count": 6,
     "metadata": {},
     "output_type": "execute_result"
    }
   ],
   "source": [
    "# count number of nulls in each column -- train_set\n",
    "np.array(train_set.isnull().sum(axis = 0))"
   ]
  },
  {
   "cell_type": "code",
   "execution_count": 7,
   "id": "f26d473a",
   "metadata": {},
   "outputs": [
    {
     "data": {
      "text/plain": [
       "array([     0,      0,      0,      0,      0,      0,      0,      0,\n",
       "            0,      0,      0,      0,      0,      0,      0, 283601,\n",
       "            0,      0,      0,      0,      0,      2,      0,      1,\n",
       "            0,      0,      0,      0,      0,      1,      0,      9,\n",
       "          226,  10870,      9,      0,      0,      0,      0,      0,\n",
       "            0,      0,      0,      0,      0,     17, 131970,  26261,\n",
       "        26261,  26261,   3429,   3504,  26298,  26356,  18076,   2261,\n",
       "         2356,   2756,  10130,   6363,  18816,  22520,  20432,      2,\n",
       "            0,      0,      0,      0,      0,      0,   3560,      0,\n",
       "            0,      0,      0,      0,      0,      0,      0,      0,\n",
       "            0,      0,      0,      0,      0,      0,      0,      0,\n",
       "            0,      0,      0,      0,      0,      0,      0,      0])"
      ]
     },
     "execution_count": 7,
     "metadata": {},
     "output_type": "execute_result"
    }
   ],
   "source": [
    "# count number of nulls in each column -- test_set\n",
    "np.array(test_set.isnull().sum(axis = 0))"
   ]
  },
  {
   "cell_type": "markdown",
   "id": "07c7b828",
   "metadata": {},
   "source": [
    "Strategy:\n",
    "- remove the feature if the number of null values in the `test_set` exceed 250\n",
    "- drop rows that have leftover null values in the `train_set`\n",
    "- for leftover null values in the `test_set` impute with `mean` for numerical features and `most frequent` for categorical features\n",
    "\n",
    "Through data exploration, we decided to remove features that have over 250 null values in the test set. That is because imputation can introduce biases to the data as it is impossible to perfectly predict the true values that are missing. Still, it is not possible to remove observations from the test set concerning the competition. We want to preserve as much information as possible, and thus, for features with fewer than 250 null values (less than 0.1% of the data), imputation for mean / most frequent for numeric / categorical features is incorporated as imputing the small number of observations with these values does not have a large impact on the overall distribution.\n",
    "\n",
    "For the train set, after removing features with over 250 null values in the test set, very small numbers of null values are observed (5 in total). We decided to remove those observations, and thus we only lose 3 observations in total."
   ]
  },
  {
   "cell_type": "code",
   "execution_count": 8,
   "id": "093a34ab",
   "metadata": {},
   "outputs": [],
   "source": [
    "# number of null values in the test set exceed 250\n",
    "to_remove = test_set.columns[np.array(test_set.isnull().sum(axis = 0) > 250)]"
   ]
  },
  {
   "cell_type": "code",
   "execution_count": 9,
   "id": "7cca421b",
   "metadata": {},
   "outputs": [],
   "source": [
    "# remove the variables\n",
    "train_set = train_set.drop(columns=to_remove)\n",
    "test_set = test_set.drop(columns=to_remove)"
   ]
  },
  {
   "cell_type": "code",
   "execution_count": 10,
   "id": "ecacbfed",
   "metadata": {},
   "outputs": [
    {
     "data": {
      "text/plain": [
       "array([0, 0, 0, 0, 0, 0, 0, 0, 0, 0, 0, 0, 0, 0, 0, 0, 0, 0, 0, 0, 0, 0,\n",
       "       0, 0, 0, 0, 0, 0, 0, 0, 0, 0, 0, 0, 0, 0, 0, 0, 0, 0, 0, 0, 0, 0,\n",
       "       0, 2, 0, 0, 0, 0, 0, 0, 0, 0, 0, 0, 0, 0, 0, 1, 1, 0, 0, 0, 0, 0,\n",
       "       0, 0, 0, 0, 0, 0, 0, 0, 0, 0, 0])"
      ]
     },
     "execution_count": 10,
     "metadata": {},
     "output_type": "execute_result"
    }
   ],
   "source": [
    "# display number of leftover missing values in `train_set`\n",
    "# -- the number of missing value in each column is very small after removing\n",
    "# -- columns with many null values in the test set\n",
    "np.array(train_set.isnull().sum(axis = 0))"
   ]
  },
  {
   "cell_type": "code",
   "execution_count": 11,
   "id": "945e9f9b",
   "metadata": {},
   "outputs": [
    {
     "name": "stdout",
     "output_type": "stream",
     "text": [
      "Number of observations in train_set: 249997\n"
     ]
    }
   ],
   "source": [
    "# drop rows that have leftover null values in the `train_set`\n",
    "train_set = train_set.dropna(axis=0)\n",
    "print(f'Number of observations in train_set: {len(train_set)}')"
   ]
  },
  {
   "cell_type": "code",
   "execution_count": 12,
   "id": "8e447b65",
   "metadata": {},
   "outputs": [
    {
     "data": {
      "text/plain": [
       "array([  0,   0,   0,   0,   0,   0,   0,   0,   0,   0,   0,   0,   0,\n",
       "         0,   0,   0,   0,   0,   0,   0,   2,   0,   1,   0,   0,   0,\n",
       "         0,   0,   1,   0,   9, 226,   9,   0,   0,   0,   0,   0,   0,\n",
       "         0,   0,   0,   0,  17,   2,   0,   0,   0,   0,   0,   0,   0,\n",
       "         0,   0,   0,   0,   0,   0,   0,   0,   0,   0,   0,   0,   0,\n",
       "         0,   0,   0,   0,   0,   0,   0,   0,   0,   0,   0])"
      ]
     },
     "execution_count": 12,
     "metadata": {},
     "output_type": "execute_result"
    }
   ],
   "source": [
    "# display number of leftover missing values in `test_set`\n",
    "np.array(test_set.isnull().sum(axis = 0))"
   ]
  },
  {
   "cell_type": "code",
   "execution_count": 13,
   "id": "8dc9306e",
   "metadata": {},
   "outputs": [
    {
     "data": {
      "text/plain": [
       "Index(['c09', 'e03', 'e24', 'e17', 'e18', 'e20', 'f10', 'e02'], dtype='object')"
      ]
     },
     "execution_count": 13,
     "metadata": {},
     "output_type": "execute_result"
    }
   ],
   "source": [
    "# get columns in the test_set with missing values\n",
    "impute_col = test_set.columns[np.array(test_set.isnull().sum(axis = 0) > 0)]\n",
    "impute_col"
   ]
  },
  {
   "cell_type": "code",
   "execution_count": 14,
   "id": "ca070449",
   "metadata": {},
   "outputs": [
    {
     "data": {
      "text/html": [
       "<div>\n",
       "<style scoped>\n",
       "    .dataframe tbody tr th:only-of-type {\n",
       "        vertical-align: middle;\n",
       "    }\n",
       "\n",
       "    .dataframe tbody tr th {\n",
       "        vertical-align: top;\n",
       "    }\n",
       "\n",
       "    .dataframe thead th {\n",
       "        text-align: right;\n",
       "    }\n",
       "</style>\n",
       "<table border=\"1\" class=\"dataframe\">\n",
       "  <thead>\n",
       "    <tr style=\"text-align: right;\">\n",
       "      <th></th>\n",
       "      <th>c09</th>\n",
       "      <th>e03</th>\n",
       "      <th>e24</th>\n",
       "      <th>e17</th>\n",
       "      <th>e18</th>\n",
       "      <th>e20</th>\n",
       "      <th>f10</th>\n",
       "      <th>e02</th>\n",
       "    </tr>\n",
       "  </thead>\n",
       "  <tbody>\n",
       "    <tr>\n",
       "      <th>0</th>\n",
       "      <td>B</td>\n",
       "      <td>A</td>\n",
       "      <td>A</td>\n",
       "      <td>920BD</td>\n",
       "      <td>11250</td>\n",
       "      <td>A4893</td>\n",
       "      <td>CKG</td>\n",
       "      <td>6.0</td>\n",
       "    </tr>\n",
       "    <tr>\n",
       "      <th>1</th>\n",
       "      <td>B</td>\n",
       "      <td>A</td>\n",
       "      <td>A</td>\n",
       "      <td>F33BC</td>\n",
       "      <td>5614E</td>\n",
       "      <td>D53C5</td>\n",
       "      <td>AIR</td>\n",
       "      <td>15.0</td>\n",
       "    </tr>\n",
       "    <tr>\n",
       "      <th>2</th>\n",
       "      <td>B</td>\n",
       "      <td>A</td>\n",
       "      <td>A</td>\n",
       "      <td>F33BC</td>\n",
       "      <td>5614E</td>\n",
       "      <td>D53C5</td>\n",
       "      <td>AEL</td>\n",
       "      <td>15.0</td>\n",
       "    </tr>\n",
       "    <tr>\n",
       "      <th>3</th>\n",
       "      <td>A</td>\n",
       "      <td>A</td>\n",
       "      <td>A</td>\n",
       "      <td>861C8</td>\n",
       "      <td>9076B</td>\n",
       "      <td>A4893</td>\n",
       "      <td>CUO</td>\n",
       "      <td>27.0</td>\n",
       "    </tr>\n",
       "    <tr>\n",
       "      <th>4</th>\n",
       "      <td>A</td>\n",
       "      <td>A</td>\n",
       "      <td>A</td>\n",
       "      <td>861C8</td>\n",
       "      <td>9076B</td>\n",
       "      <td>A4893</td>\n",
       "      <td>AWV</td>\n",
       "      <td>27.0</td>\n",
       "    </tr>\n",
       "  </tbody>\n",
       "</table>\n",
       "</div>"
      ],
      "text/plain": [
       "  c09 e03 e24    e17    e18    e20  f10   e02\n",
       "0   B   A   A  920BD  11250  A4893  CKG   6.0\n",
       "1   B   A   A  F33BC  5614E  D53C5  AIR  15.0\n",
       "2   B   A   A  F33BC  5614E  D53C5  AEL  15.0\n",
       "3   A   A   A  861C8  9076B  A4893  CUO  27.0\n",
       "4   A   A   A  861C8  9076B  A4893  AWV  27.0"
      ]
     },
     "execution_count": 14,
     "metadata": {},
     "output_type": "execute_result"
    }
   ],
   "source": [
    "# display data for columns that are going to impute\n",
    "to_impute = test_set[impute_col]\n",
    "to_impute.head()"
   ]
  },
  {
   "cell_type": "code",
   "execution_count": 15,
   "id": "3907fd58",
   "metadata": {},
   "outputs": [],
   "source": [
    "# get column indices for numerical and categorical features that need imputation\n",
    "num_col = to_impute.select_dtypes(include='number').columns\n",
    "cat_col = to_impute.select_dtypes(include='category').columns\n",
    "# create imputation pipeline\n",
    "# -- parameters = List of (name, transformer, columns)\n",
    "pipeline = ColumnTransformer([\n",
    "    ('cat_impute', SimpleImputer(strategy='most_frequent'), cat_col),\n",
    "    ('num_impute', SimpleImputer(strategy='mean'), num_col)\n",
    "])\n",
    "# impute missing values\n",
    "imputed_test = pipeline.fit_transform(test_set)"
   ]
  },
  {
   "cell_type": "code",
   "execution_count": 16,
   "id": "824a19ea",
   "metadata": {},
   "outputs": [],
   "source": [
    "# assign values back to the `test_set`\n",
    "test_set[impute_col] = imputed_test"
   ]
  },
  {
   "cell_type": "markdown",
   "id": "b51f964a",
   "metadata": {},
   "source": [
    "Check again the number of missing values"
   ]
  },
  {
   "cell_type": "code",
   "execution_count": 17,
   "id": "3e9351df",
   "metadata": {},
   "outputs": [
    {
     "name": "stdout",
     "output_type": "stream",
     "text": [
      "Number of missing values in `train_set`: 0\n",
      "Number of missing values in `test_set`: 0\n"
     ]
    }
   ],
   "source": [
    "print(f'Number of missing values in `train_set`: {np.sum(np.sum(train_set.isna()))}')\n",
    "print(f'Number of missing values in `test_set`: {np.sum(np.sum(test_set.isna()))}')"
   ]
  },
  {
   "cell_type": "markdown",
   "id": "5190fd37",
   "metadata": {},
   "source": [
    "As some features were removed, we adjust the metadata"
   ]
  },
  {
   "cell_type": "code",
   "execution_count": 18,
   "id": "f49eaecf",
   "metadata": {},
   "outputs": [],
   "source": [
    "var_idx_num = list(set(var_idx_num) - set(to_remove))\n",
    "var_idx_cat = list(set(var_idx_cat) - set(to_remove))\n",
    "var_idx_hccv = list(set(var_idx_hccv) - set(to_remove))"
   ]
  },
  {
   "cell_type": "markdown",
   "id": "fd8987a8",
   "metadata": {},
   "source": [
    "### Feature selection\n"
   ]
  },
  {
   "cell_type": "markdown",
   "id": "552e0136",
   "metadata": {},
   "source": [
    "#### - Choose at least two numeric variables \n",
    "\n",
    "Select numeric features with LASSO \n",
    "- For the parameter tuning, we use 10-Fold CV with 3 repeats. The penalty parameter ($\\lambda$) it tuned through automatic search algorith provided by the package as we later select the appropriate $\\lambda$ through visualisation."
   ]
  },
  {
   "cell_type": "code",
   "execution_count": 19,
   "id": "c691a24e",
   "metadata": {},
   "outputs": [
    {
     "data": {
      "text/plain": [
       "LassoCV(cv=RepeatedKFold(n_repeats=3, n_splits=10, random_state=999), n_jobs=-1,\n",
       "        random_state=999, selection='random')"
      ]
     },
     "execution_count": 19,
     "metadata": {},
     "output_type": "execute_result"
    }
   ],
   "source": [
    "# get numeric features\n",
    "X = train_set[var_idx_num]\n",
    "# get response\n",
    "y = train_set[var_idx_response].values.ravel()\n",
    "\n",
    "# scale the variable\n",
    "scaler = StandardScaler()\n",
    "X = scaler.fit_transform(X)\n",
    "\n",
    "# fit a LASSO with cross validation\n",
    "cv = RepeatedKFold(n_splits=10, n_repeats=3, random_state=999)\n",
    "lassoCV_ = LassoCV(fit_intercept=True,\n",
    "                   normalize=False,\n",
    "                   cv=cv,\n",
    "                   random_state=999,\n",
    "                   selection='random',\n",
    "                   n_jobs=-1, \n",
    "                  )\n",
    "lassoCV_.fit(X=X, y=y)"
   ]
  },
  {
   "cell_type": "code",
   "execution_count": 20,
   "id": "907f37fc",
   "metadata": {},
   "outputs": [
    {
     "data": {
      "image/png": "[encoded data removed]",
      "text/plain": [
       "<Figure size 864x576 with 1 Axes>"
      ]
     },
     "metadata": {
      "needs_background": "light"
     },
     "output_type": "display_data"
    }
   ],
   "source": [
    "# visualise the relationship between lambda and mse\n",
    "m_log_lambdas = -np.log10(lassoCV_.alphas_)\n",
    "\n",
    "font = {'size': 20}\n",
    "plt.rc('font', **font)\n",
    "\n",
    "fig = plt.figure(figsize=(12,8))\n",
    "ax1 = fig.add_subplot(1, 1, 1)\n",
    "ax1.plot(m_log_lambdas, lassoCV_.mse_path_, ':')\n",
    "ax1.plot(m_log_lambdas, lassoCV_.mse_path_.mean(axis=-1),\n",
    "         'k',\n",
    "         label='Average across the folds',\n",
    "         linewidth=2)\n",
    "\n",
    "ax1.axvline(-np.log10(lassoCV_.alpha_),\n",
    "            linestyle='--', \n",
    "            color='k',\n",
    "            label='alpha: CV estimate')\n",
    "\n",
    "ax1.legend()\n",
    "\n",
    "ax1.set_xlabel('-log10(lambda)')\n",
    "ax1.set_ylabel('Mean square error')\n",
    "ax1.set_title('Mean square error on each fold')\n",
    "_ = ax1.axis('tight')"
   ]
  },
  {
   "cell_type": "markdown",
   "id": "20fd7b8e",
   "metadata": {},
   "source": [
    "From the above figure, we decided to use the $\\lambda$ where $-\\log_{10}\\lambda = 2.9$ as the MSE is not decreasing much and we favor a simpler model if the evaluation metric is relatively similar."
   ]
  },
  {
   "cell_type": "code",
   "execution_count": 21,
   "id": "8922d284",
   "metadata": {},
   "outputs": [
    {
     "data": {
      "text/plain": [
       "Lasso(alpha=0.0012589254117941675, random_state=999)"
      ]
     },
     "execution_count": 21,
     "metadata": {},
     "output_type": "execute_result"
    }
   ],
   "source": [
    "# specify the lambda\n",
    "alpha_ = 10**-2.9\n",
    "# specify the model\n",
    "lasso_ = Lasso(fit_intercept=True,\n",
    "               normalize=False,\n",
    "               alpha=alpha_,\n",
    "               random_state=999,\n",
    "              )\n",
    "# fit the model\n",
    "lasso_.fit(X=X, y=y)"
   ]
  },
  {
   "cell_type": "code",
   "execution_count": 22,
   "id": "456e5609",
   "metadata": {},
   "outputs": [
    {
     "name": "stdout",
     "output_type": "stream",
     "text": [
      "Selected numerical variables:\n",
      " ['f21', 'f02', 'f20', 'f08', 'f23', 'f24', 'f18', 'f26', 'f13', 'f16', 'e04', 'e07', 'e08', 'e23', 'f17', 'f19', 'e05', 'e02', 'f01', 'e15', 'f11', 'e06', 'e09', 'f06']\n"
     ]
    }
   ],
   "source": [
    "# get selected numeric variables -- coefficients were not penalised to zero\n",
    "var_sel_num = list(np.array(var_idx_num)[lasso_.coef_ != 0])\n",
    "print('Selected numerical variables:\\n', \n",
    "      var_sel_num)"
   ]
  },
  {
   "cell_type": "markdown",
   "id": "c1a5e894",
   "metadata": {},
   "source": [
    "#### - Spline at least one of the numeric variables that you choose"
   ]
  },
  {
   "cell_type": "code",
   "execution_count": 23,
   "id": "5f026cca",
   "metadata": {},
   "outputs": [],
   "source": [
    "# get selected numeric features from the previous selection\n",
    "X = train_set[var_sel_num]\n",
    "# get response\n",
    "y = train_set[var_idx_response].values.ravel()"
   ]
  },
  {
   "cell_type": "code",
   "execution_count": 24,
   "id": "b6b7dec8",
   "metadata": {},
   "outputs": [
    {
     "data": {
      "text/plain": [
       "f21     4\n",
       "f02    62\n",
       "f20     6\n",
       "f08     5\n",
       "f23     4\n",
       "f24     3\n",
       "f18     4\n",
       "f26     4\n",
       "f13    15\n",
       "f16     4\n",
       "e04    28\n",
       "e07     6\n",
       "e08    21\n",
       "e23     5\n",
       "f17     4\n",
       "f19     4\n",
       "e05    71\n",
       "e02    50\n",
       "f01    17\n",
       "e15    38\n",
       "f11    20\n",
       "e06    13\n",
       "e09    20\n",
       "f06    11\n",
       "dtype: int64"
      ]
     },
     "execution_count": 24,
     "metadata": {},
     "output_type": "execute_result"
    }
   ],
   "source": [
    "# check for unique values\n",
    "# -- none of them have 1 unique value, 20 seems to be an appropriate cutting point\n",
    "X.nunique()"
   ]
  },
  {
   "cell_type": "code",
   "execution_count": 25,
   "id": "e004a092",
   "metadata": {},
   "outputs": [
    {
     "name": "stdout",
     "output_type": "stream",
     "text": [
      "var_to_spline:\n",
      " ['f02', 'e04', 'e08', 'e05', 'e02', 'e15', 'f11', 'e09']\n"
     ]
    }
   ],
   "source": [
    "# select only features with 20 or over unique values to spline\n",
    "var_to_spline = list(X.columns[X.nunique().values >= 20])\n",
    "print('var_to_spline:\\n',\n",
    "      var_to_spline)"
   ]
  },
  {
   "cell_type": "code",
   "execution_count": 26,
   "id": "643d913b",
   "metadata": {},
   "outputs": [],
   "source": [
    "# define a spline function\n",
    "def fn_spline(var, x, n_spline):\n",
    "    # define percentile step size\n",
    "    step = 100 // n_spline\n",
    "    # get the percentiles\n",
    "    ptiles = np.percentile(x, np.arange(step, 100+step, step))\n",
    "    # initialise a dataframe\n",
    "    df_ptiles = pd.DataFrame({var: x})\n",
    "    # spline the variable\n",
    "    for idx, ptile in enumerate(ptiles):\n",
    "        df_ptiles[f'{var}_{str(idx)}'] = np.maximum(0, x - ptiles[idx])\n",
    "    return [df_ptiles, ptiles]"
   ]
  },
  {
   "cell_type": "code",
   "execution_count": 27,
   "id": "fc8371ac",
   "metadata": {},
   "outputs": [],
   "source": [
    "# perform numeric spline\n",
    "\n",
    "# initialise a dataframe\n",
    "df_spline = X.copy()\n",
    "for var in var_to_spline:\n",
    "    # generate a dataframe for spline variables\n",
    "    df_ptiles, knots = fn_spline(var=var, x=X[var], n_spline=5)\n",
    "    # drop the variable\n",
    "    df_spline = df_spline.drop(columns=[var])\n",
    "    # concat the spline variables\n",
    "    df_spline = pd.concat([df_spline, df_ptiles], axis=1, sort=False)"
   ]
  },
  {
   "cell_type": "code",
   "execution_count": 28,
   "id": "b28cb6c7",
   "metadata": {},
   "outputs": [
    {
     "data": {
      "text/html": [
       "<div>\n",
       "<style scoped>\n",
       "    .dataframe tbody tr th:only-of-type {\n",
       "        vertical-align: middle;\n",
       "    }\n",
       "\n",
       "    .dataframe tbody tr th {\n",
       "        vertical-align: top;\n",
       "    }\n",
       "\n",
       "    .dataframe thead th {\n",
       "        text-align: right;\n",
       "    }\n",
       "</style>\n",
       "<table border=\"1\" class=\"dataframe\">\n",
       "  <thead>\n",
       "    <tr style=\"text-align: right;\">\n",
       "      <th></th>\n",
       "      <th>f21</th>\n",
       "      <th>f20</th>\n",
       "      <th>f08</th>\n",
       "      <th>f23</th>\n",
       "      <th>f24</th>\n",
       "      <th>f18</th>\n",
       "      <th>f26</th>\n",
       "      <th>f13</th>\n",
       "      <th>f16</th>\n",
       "      <th>e07</th>\n",
       "      <th>...</th>\n",
       "      <th>f11_1</th>\n",
       "      <th>f11_2</th>\n",
       "      <th>f11_3</th>\n",
       "      <th>f11_4</th>\n",
       "      <th>e09</th>\n",
       "      <th>e09_0</th>\n",
       "      <th>e09_1</th>\n",
       "      <th>e09_2</th>\n",
       "      <th>e09_3</th>\n",
       "      <th>e09_4</th>\n",
       "    </tr>\n",
       "  </thead>\n",
       "  <tbody>\n",
       "    <tr>\n",
       "      <th>0</th>\n",
       "      <td>0</td>\n",
       "      <td>0</td>\n",
       "      <td>51</td>\n",
       "      <td>0</td>\n",
       "      <td>0</td>\n",
       "      <td>0</td>\n",
       "      <td>0</td>\n",
       "      <td>15.0</td>\n",
       "      <td>0</td>\n",
       "      <td>0</td>\n",
       "      <td>...</td>\n",
       "      <td>5.0</td>\n",
       "      <td>3.0</td>\n",
       "      <td>1.0</td>\n",
       "      <td>0.0</td>\n",
       "      <td>18</td>\n",
       "      <td>0.0</td>\n",
       "      <td>0.0</td>\n",
       "      <td>0.0</td>\n",
       "      <td>0.0</td>\n",
       "      <td>0.0</td>\n",
       "    </tr>\n",
       "    <tr>\n",
       "      <th>1</th>\n",
       "      <td>0</td>\n",
       "      <td>0</td>\n",
       "      <td>51</td>\n",
       "      <td>0</td>\n",
       "      <td>0</td>\n",
       "      <td>0</td>\n",
       "      <td>0</td>\n",
       "      <td>9.0</td>\n",
       "      <td>0</td>\n",
       "      <td>0</td>\n",
       "      <td>...</td>\n",
       "      <td>6.0</td>\n",
       "      <td>4.0</td>\n",
       "      <td>2.0</td>\n",
       "      <td>0.0</td>\n",
       "      <td>18</td>\n",
       "      <td>0.0</td>\n",
       "      <td>0.0</td>\n",
       "      <td>0.0</td>\n",
       "      <td>0.0</td>\n",
       "      <td>0.0</td>\n",
       "    </tr>\n",
       "    <tr>\n",
       "      <th>2</th>\n",
       "      <td>0</td>\n",
       "      <td>0</td>\n",
       "      <td>51</td>\n",
       "      <td>0</td>\n",
       "      <td>0</td>\n",
       "      <td>0</td>\n",
       "      <td>0</td>\n",
       "      <td>11.0</td>\n",
       "      <td>0</td>\n",
       "      <td>0</td>\n",
       "      <td>...</td>\n",
       "      <td>4.0</td>\n",
       "      <td>2.0</td>\n",
       "      <td>0.0</td>\n",
       "      <td>0.0</td>\n",
       "      <td>18</td>\n",
       "      <td>0.0</td>\n",
       "      <td>0.0</td>\n",
       "      <td>0.0</td>\n",
       "      <td>0.0</td>\n",
       "      <td>0.0</td>\n",
       "    </tr>\n",
       "    <tr>\n",
       "      <th>3</th>\n",
       "      <td>0</td>\n",
       "      <td>1</td>\n",
       "      <td>51</td>\n",
       "      <td>0</td>\n",
       "      <td>0</td>\n",
       "      <td>0</td>\n",
       "      <td>0</td>\n",
       "      <td>10.0</td>\n",
       "      <td>1</td>\n",
       "      <td>0</td>\n",
       "      <td>...</td>\n",
       "      <td>1.0</td>\n",
       "      <td>0.0</td>\n",
       "      <td>0.0</td>\n",
       "      <td>0.0</td>\n",
       "      <td>43</td>\n",
       "      <td>25.0</td>\n",
       "      <td>0.0</td>\n",
       "      <td>0.0</td>\n",
       "      <td>0.0</td>\n",
       "      <td>0.0</td>\n",
       "    </tr>\n",
       "    <tr>\n",
       "      <th>4</th>\n",
       "      <td>0</td>\n",
       "      <td>0</td>\n",
       "      <td>51</td>\n",
       "      <td>0</td>\n",
       "      <td>0</td>\n",
       "      <td>0</td>\n",
       "      <td>0</td>\n",
       "      <td>9.0</td>\n",
       "      <td>0</td>\n",
       "      <td>0</td>\n",
       "      <td>...</td>\n",
       "      <td>4.0</td>\n",
       "      <td>2.0</td>\n",
       "      <td>0.0</td>\n",
       "      <td>0.0</td>\n",
       "      <td>43</td>\n",
       "      <td>25.0</td>\n",
       "      <td>0.0</td>\n",
       "      <td>0.0</td>\n",
       "      <td>0.0</td>\n",
       "      <td>0.0</td>\n",
       "    </tr>\n",
       "  </tbody>\n",
       "</table>\n",
       "<p>5 rows × 64 columns</p>\n",
       "</div>"
      ],
      "text/plain": [
       "   f21  f20  f08  f23  f24  f18  f26   f13  f16  e07  ...  f11_1  f11_2  \\\n",
       "0    0    0   51    0    0    0    0  15.0    0    0  ...    5.0    3.0   \n",
       "1    0    0   51    0    0    0    0   9.0    0    0  ...    6.0    4.0   \n",
       "2    0    0   51    0    0    0    0  11.0    0    0  ...    4.0    2.0   \n",
       "3    0    1   51    0    0    0    0  10.0    1    0  ...    1.0    0.0   \n",
       "4    0    0   51    0    0    0    0   9.0    0    0  ...    4.0    2.0   \n",
       "\n",
       "   f11_3  f11_4  e09  e09_0  e09_1  e09_2  e09_3  e09_4  \n",
       "0    1.0    0.0   18    0.0    0.0    0.0    0.0    0.0  \n",
       "1    2.0    0.0   18    0.0    0.0    0.0    0.0    0.0  \n",
       "2    0.0    0.0   18    0.0    0.0    0.0    0.0    0.0  \n",
       "3    0.0    0.0   43   25.0    0.0    0.0    0.0    0.0  \n",
       "4    0.0    0.0   43   25.0    0.0    0.0    0.0    0.0  \n",
       "\n",
       "[5 rows x 64 columns]"
      ]
     },
     "execution_count": 28,
     "metadata": {},
     "output_type": "execute_result"
    }
   ],
   "source": [
    "df_spline.head()"
   ]
  },
  {
   "cell_type": "markdown",
   "id": "c31afbe8",
   "metadata": {},
   "source": [
    "perform variable selection with LASSO\n",
    " - The hyperparameter tuning process is similar to the previous tuning."
   ]
  },
  {
   "cell_type": "code",
   "execution_count": 29,
   "id": "54c4e887",
   "metadata": {},
   "outputs": [
    {
     "name": "stderr",
     "output_type": "stream",
     "text": [
      "/opt/conda/lib/python3.9/site-packages/sklearn/linear_model/_coordinate_descent.py:530: ConvergenceWarning: Objective did not converge. You might want to increase the number of iterations. Duality gap: 2238.6346565478525, tolerance: 6.248045754948859\n",
      "  model = cd_fast.enet_coordinate_descent(\n"
     ]
    },
    {
     "data": {
      "text/plain": [
       "LassoCV(cv=RepeatedKFold(n_repeats=3, n_splits=10, random_state=999), n_jobs=-1,\n",
       "        random_state=999, selection='random')"
      ]
     },
     "execution_count": 29,
     "metadata": {},
     "output_type": "execute_result"
    }
   ],
   "source": [
    "# get features\n",
    "X = df_spline.copy()\n",
    "# get response\n",
    "y = train_set[var_idx_response].values.ravel()\n",
    "\n",
    "# get the feature columns\n",
    "spline_col = list(X.columns)\n",
    "\n",
    "# scale the variable\n",
    "scaler = StandardScaler()\n",
    "X = scaler.fit_transform(X)\n",
    "\n",
    "# fit a LASSO with cross validation\n",
    "cv = RepeatedKFold(n_splits=10, n_repeats=3, random_state=999)\n",
    "lassoCV_ = LassoCV(fit_intercept=True,\n",
    "                   normalize=False,\n",
    "                   cv=cv,\n",
    "                   random_state=999,\n",
    "                   selection='random',\n",
    "                   n_jobs=-1, \n",
    "                  )\n",
    "lassoCV_.fit(X=X, y=y)"
   ]
  },
  {
   "cell_type": "code",
   "execution_count": 30,
   "id": "7ea7862e",
   "metadata": {},
   "outputs": [
    {
     "data": {
      "image/png": "[encoded data removed]",
      "text/plain": [
       "<Figure size 864x576 with 1 Axes>"
      ]
     },
     "metadata": {
      "needs_background": "light"
     },
     "output_type": "display_data"
    }
   ],
   "source": [
    "# visualise the relationship between lambda and mse\n",
    "m_log_lambdas = -np.log10(lassoCV_.alphas_)\n",
    "\n",
    "font = {'size': 20}\n",
    "plt.rc('font', **font)\n",
    "\n",
    "fig = plt.figure(figsize=(12,8))\n",
    "ax1 = fig.add_subplot(1, 1, 1)\n",
    "ax1.plot(m_log_lambdas, lassoCV_.mse_path_, ':')\n",
    "ax1.plot(m_log_lambdas, lassoCV_.mse_path_.mean(axis=-1),\n",
    "         'k',\n",
    "         label='Average across the folds',\n",
    "         linewidth=2)\n",
    "\n",
    "ax1.axvline(-np.log10(lassoCV_.alpha_),\n",
    "            linestyle='--', \n",
    "            color='k',\n",
    "            label='alpha: CV estimate')\n",
    "\n",
    "ax1.legend()\n",
    "\n",
    "ax1.set_xlabel('-log10(lambda)')\n",
    "ax1.set_ylabel('Mean square error')\n",
    "ax1.set_title('Mean square error on each fold')\n",
    "_ = ax1.axis('tight')"
   ]
  },
  {
   "cell_type": "markdown",
   "id": "23e86b89",
   "metadata": {},
   "source": [
    "From the above figure, we decided to use the $\\lambda$ where $-\\log_{10}\\lambda = 3$"
   ]
  },
  {
   "cell_type": "code",
   "execution_count": 31,
   "id": "f790fb59",
   "metadata": {},
   "outputs": [
    {
     "data": {
      "text/plain": [
       "Lasso(alpha=0.001, random_state=999)"
      ]
     },
     "execution_count": 31,
     "metadata": {},
     "output_type": "execute_result"
    }
   ],
   "source": [
    "alpha_ = 10**-3\n",
    "lasso_ = Lasso(fit_intercept=True,\n",
    "               normalize=False,\n",
    "               alpha=alpha_,\n",
    "               random_state=999,\n",
    "              )\n",
    "lasso_.fit(X=X, y=y)"
   ]
  },
  {
   "cell_type": "code",
   "execution_count": 32,
   "id": "fd3960a3",
   "metadata": {},
   "outputs": [
    {
     "name": "stdout",
     "output_type": "stream",
     "text": [
      "Selected features after spline:\n",
      " ['f21', 'f20', 'f08', 'f23', 'f24', 'f18', 'f26', 'f13', 'f16', 'e07', 'e23', 'f17', 'f19', 'f01', 'e06', 'f06', 'f02', 'f02_0', 'f02_1', 'f02_3', 'e04', 'e04_0', 'e04_1', 'e04_2', 'e04_3', 'e08', 'e08_0', 'e08_1', 'e08_3', 'e05', 'e05_0', 'e05_1', 'e05_2', 'e05_3', 'e02', 'e02_0', 'e02_2', 'e02_3', 'e15', 'e15_0', 'e15_2', 'e15_3', 'f11', 'f11_0', 'f11_1', 'f11_2', 'f11_3', 'e09_2']\n"
     ]
    }
   ],
   "source": [
    "# get selected features-- coefficients were not penalised to zero\n",
    "sel_features_spline = list(np.array(spline_col)[lassoCV_.coef_ != 0])\n",
    "print('Selected features after spline:\\n', \n",
    "      sel_features_spline)"
   ]
  },
  {
   "cell_type": "markdown",
   "id": "eabf18af",
   "metadata": {},
   "source": [
    "Get a dataframe for numeric (including spline) features "
   ]
  },
  {
   "cell_type": "code",
   "execution_count": 33,
   "id": "95eed716",
   "metadata": {},
   "outputs": [
    {
     "data": {
      "text/html": [
       "<div>\n",
       "<style scoped>\n",
       "    .dataframe tbody tr th:only-of-type {\n",
       "        vertical-align: middle;\n",
       "    }\n",
       "\n",
       "    .dataframe tbody tr th {\n",
       "        vertical-align: top;\n",
       "    }\n",
       "\n",
       "    .dataframe thead th {\n",
       "        text-align: right;\n",
       "    }\n",
       "</style>\n",
       "<table border=\"1\" class=\"dataframe\">\n",
       "  <thead>\n",
       "    <tr style=\"text-align: right;\">\n",
       "      <th></th>\n",
       "      <th>f21</th>\n",
       "      <th>f20</th>\n",
       "      <th>f08</th>\n",
       "      <th>f23</th>\n",
       "      <th>f24</th>\n",
       "      <th>f18</th>\n",
       "      <th>f26</th>\n",
       "      <th>f13</th>\n",
       "      <th>f16</th>\n",
       "      <th>e07</th>\n",
       "      <th>...</th>\n",
       "      <th>e15</th>\n",
       "      <th>e15_0</th>\n",
       "      <th>e15_2</th>\n",
       "      <th>e15_3</th>\n",
       "      <th>f11</th>\n",
       "      <th>f11_0</th>\n",
       "      <th>f11_1</th>\n",
       "      <th>f11_2</th>\n",
       "      <th>f11_3</th>\n",
       "      <th>e09_2</th>\n",
       "    </tr>\n",
       "  </thead>\n",
       "  <tbody>\n",
       "    <tr>\n",
       "      <th>0</th>\n",
       "      <td>0</td>\n",
       "      <td>0</td>\n",
       "      <td>51</td>\n",
       "      <td>0</td>\n",
       "      <td>0</td>\n",
       "      <td>0</td>\n",
       "      <td>0</td>\n",
       "      <td>15.0</td>\n",
       "      <td>0</td>\n",
       "      <td>0</td>\n",
       "      <td>...</td>\n",
       "      <td>83</td>\n",
       "      <td>61.0</td>\n",
       "      <td>24.0</td>\n",
       "      <td>0.0</td>\n",
       "      <td>14.0</td>\n",
       "      <td>8.0</td>\n",
       "      <td>5.0</td>\n",
       "      <td>3.0</td>\n",
       "      <td>1.0</td>\n",
       "      <td>0.0</td>\n",
       "    </tr>\n",
       "    <tr>\n",
       "      <th>1</th>\n",
       "      <td>0</td>\n",
       "      <td>0</td>\n",
       "      <td>51</td>\n",
       "      <td>0</td>\n",
       "      <td>0</td>\n",
       "      <td>0</td>\n",
       "      <td>0</td>\n",
       "      <td>9.0</td>\n",
       "      <td>0</td>\n",
       "      <td>0</td>\n",
       "      <td>...</td>\n",
       "      <td>83</td>\n",
       "      <td>61.0</td>\n",
       "      <td>24.0</td>\n",
       "      <td>0.0</td>\n",
       "      <td>15.0</td>\n",
       "      <td>9.0</td>\n",
       "      <td>6.0</td>\n",
       "      <td>4.0</td>\n",
       "      <td>2.0</td>\n",
       "      <td>0.0</td>\n",
       "    </tr>\n",
       "    <tr>\n",
       "      <th>2</th>\n",
       "      <td>0</td>\n",
       "      <td>0</td>\n",
       "      <td>51</td>\n",
       "      <td>0</td>\n",
       "      <td>0</td>\n",
       "      <td>0</td>\n",
       "      <td>0</td>\n",
       "      <td>11.0</td>\n",
       "      <td>0</td>\n",
       "      <td>0</td>\n",
       "      <td>...</td>\n",
       "      <td>83</td>\n",
       "      <td>61.0</td>\n",
       "      <td>24.0</td>\n",
       "      <td>0.0</td>\n",
       "      <td>13.0</td>\n",
       "      <td>7.0</td>\n",
       "      <td>4.0</td>\n",
       "      <td>2.0</td>\n",
       "      <td>0.0</td>\n",
       "      <td>0.0</td>\n",
       "    </tr>\n",
       "    <tr>\n",
       "      <th>3</th>\n",
       "      <td>0</td>\n",
       "      <td>1</td>\n",
       "      <td>51</td>\n",
       "      <td>0</td>\n",
       "      <td>0</td>\n",
       "      <td>0</td>\n",
       "      <td>0</td>\n",
       "      <td>10.0</td>\n",
       "      <td>1</td>\n",
       "      <td>0</td>\n",
       "      <td>...</td>\n",
       "      <td>83</td>\n",
       "      <td>61.0</td>\n",
       "      <td>24.0</td>\n",
       "      <td>0.0</td>\n",
       "      <td>10.0</td>\n",
       "      <td>4.0</td>\n",
       "      <td>1.0</td>\n",
       "      <td>0.0</td>\n",
       "      <td>0.0</td>\n",
       "      <td>0.0</td>\n",
       "    </tr>\n",
       "    <tr>\n",
       "      <th>4</th>\n",
       "      <td>0</td>\n",
       "      <td>0</td>\n",
       "      <td>51</td>\n",
       "      <td>0</td>\n",
       "      <td>0</td>\n",
       "      <td>0</td>\n",
       "      <td>0</td>\n",
       "      <td>9.0</td>\n",
       "      <td>0</td>\n",
       "      <td>0</td>\n",
       "      <td>...</td>\n",
       "      <td>83</td>\n",
       "      <td>61.0</td>\n",
       "      <td>24.0</td>\n",
       "      <td>0.0</td>\n",
       "      <td>13.0</td>\n",
       "      <td>7.0</td>\n",
       "      <td>4.0</td>\n",
       "      <td>2.0</td>\n",
       "      <td>0.0</td>\n",
       "      <td>0.0</td>\n",
       "    </tr>\n",
       "  </tbody>\n",
       "</table>\n",
       "<p>5 rows × 48 columns</p>\n",
       "</div>"
      ],
      "text/plain": [
       "   f21  f20  f08  f23  f24  f18  f26   f13  f16  e07  ...  e15  e15_0  e15_2  \\\n",
       "0    0    0   51    0    0    0    0  15.0    0    0  ...   83   61.0   24.0   \n",
       "1    0    0   51    0    0    0    0   9.0    0    0  ...   83   61.0   24.0   \n",
       "2    0    0   51    0    0    0    0  11.0    0    0  ...   83   61.0   24.0   \n",
       "3    0    1   51    0    0    0    0  10.0    1    0  ...   83   61.0   24.0   \n",
       "4    0    0   51    0    0    0    0   9.0    0    0  ...   83   61.0   24.0   \n",
       "\n",
       "   e15_3   f11  f11_0  f11_1  f11_2  f11_3  e09_2  \n",
       "0    0.0  14.0    8.0    5.0    3.0    1.0    0.0  \n",
       "1    0.0  15.0    9.0    6.0    4.0    2.0    0.0  \n",
       "2    0.0  13.0    7.0    4.0    2.0    0.0    0.0  \n",
       "3    0.0  10.0    4.0    1.0    0.0    0.0    0.0  \n",
       "4    0.0  13.0    7.0    4.0    2.0    0.0    0.0  \n",
       "\n",
       "[5 rows x 48 columns]"
      ]
     },
     "execution_count": 33,
     "metadata": {},
     "output_type": "execute_result"
    }
   ],
   "source": [
    "train_numeric = df_spline[sel_features_spline]\n",
    "train_numeric.head()"
   ]
  },
  {
   "cell_type": "markdown",
   "id": "79889308",
   "metadata": {},
   "source": [
    "#### - Choose at least one categorical variable and one-hot it"
   ]
  },
  {
   "cell_type": "code",
   "execution_count": 34,
   "id": "04450b42",
   "metadata": {},
   "outputs": [],
   "source": [
    "# get categorical features that are not hccv\n",
    "X = train_set[list(set(var_idx_cat) - set(var_idx_hccv))]\n",
    "# get response\n",
    "y = train_set[var_idx_response].values.ravel()"
   ]
  },
  {
   "cell_type": "code",
   "execution_count": 35,
   "id": "f4d48ab6",
   "metadata": {
    "scrolled": false
   },
   "outputs": [
    {
     "data": {
      "text/plain": [
       "a16     3\n",
       "b02     2\n",
       "b03     2\n",
       "c05     3\n",
       "e14     7\n",
       "c04     3\n",
       "a12     5\n",
       "f07     4\n",
       "a20     2\n",
       "f29     7\n",
       "b04     9\n",
       "f03     7\n",
       "e24    13\n",
       "c07     3\n",
       "f04     2\n",
       "e21    17\n",
       "a17     3\n",
       "a03    12\n",
       "f27     7\n",
       "f09    13\n",
       "a19     2\n",
       "a13     5\n",
       "a01     7\n",
       "a10     3\n",
       "c06     3\n",
       "f34     2\n",
       "e20    26\n",
       "e22     2\n",
       "c09     3\n",
       "f05     5\n",
       "f30     2\n",
       "b07     3\n",
       "e03    13\n",
       "c08     3\n",
       "a02     8\n",
       "f33     2\n",
       "a18     2\n",
       "e11     7\n",
       "e13    15\n",
       "e01     3\n",
       "e25     2\n",
       "dtype: int64"
      ]
     },
     "execution_count": 35,
     "metadata": {},
     "output_type": "execute_result"
    }
   ],
   "source": [
    "# check for unique values\n",
    "# -- none of them have 1 unique value\n",
    "X.nunique()"
   ]
  },
  {
   "cell_type": "markdown",
   "id": "e2bf2e31",
   "metadata": {},
   "source": [
    "Select categorical variables through tree-based feature importance"
   ]
  },
  {
   "cell_type": "code",
   "execution_count": 36,
   "id": "c68fb74f",
   "metadata": {},
   "outputs": [],
   "source": [
    "# encode the variables with ordinal encoder\n",
    "ord_enc = OrdinalEncoder()\n",
    "enc_X = ord_enc.fit_transform(X)\n",
    "\n",
    "# train tree-based feature selection\n",
    "model = ExtraTreesClassifier()\n",
    "model.fit(enc_X, y)\n",
    "# get the feature importance values\n",
    "feat_importances = pd.Series(model.feature_importances_, index=X.columns)"
   ]
  },
  {
   "cell_type": "code",
   "execution_count": 37,
   "id": "50ddb798",
   "metadata": {},
   "outputs": [
    {
     "data": {
      "text/plain": [
       "e21    0.171845\n",
       "b04    0.109035\n",
       "f09    0.078853\n",
       "e20    0.073908\n",
       "a03    0.065869\n",
       "e11    0.065408\n",
       "e13    0.057318\n",
       "e14    0.047645\n",
       "a02    0.047270\n",
       "f03    0.033960\n",
       "c08    0.022039\n",
       "f29    0.021925\n",
       "a16    0.019854\n",
       "f27    0.017677\n",
       "e03    0.017552\n",
       "e24    0.016535\n",
       "c09    0.015998\n",
       "f05    0.012963\n",
       "f04    0.012790\n",
       "e25    0.011951\n",
       "f07    0.011582\n",
       "e01    0.011132\n",
       "f33    0.008643\n",
       "a12    0.007038\n",
       "b02    0.006998\n",
       "a13    0.005196\n",
       "a17    0.004638\n",
       "b07    0.004472\n",
       "c07    0.003677\n",
       "a10    0.002801\n",
       "a01    0.002570\n",
       "f30    0.002553\n",
       "f34    0.002271\n",
       "e22    0.001580\n",
       "c05    0.001535\n",
       "a18    0.001318\n",
       "c04    0.000632\n",
       "c06    0.000577\n",
       "a19    0.000241\n",
       "b03    0.000125\n",
       "a20    0.000024\n",
       "dtype: float64"
      ]
     },
     "execution_count": 37,
     "metadata": {},
     "output_type": "execute_result"
    }
   ],
   "source": [
    "# print the feature importances\n",
    "feat_importances.sort_values(ascending=False)"
   ]
  },
  {
   "cell_type": "code",
   "execution_count": 38,
   "id": "9b9a0337",
   "metadata": {},
   "outputs": [
    {
     "name": "stdout",
     "output_type": "stream",
     "text": [
      "Selected categorical variables:\n",
      " ['e21', 'b04']\n"
     ]
    }
   ],
   "source": [
    "# there is a big leap after the second most important variable, we only select the first two\n",
    "var_sel_cat = list(feat_importances.sort_values(ascending=False)[:2].index)\n",
    "print('Selected categorical variables:\\n', \n",
    "      var_sel_cat)"
   ]
  },
  {
   "cell_type": "markdown",
   "id": "b78df102",
   "metadata": {},
   "source": [
    "One-hot encoding"
   ]
  },
  {
   "cell_type": "code",
   "execution_count": 39,
   "id": "64efc5af",
   "metadata": {},
   "outputs": [],
   "source": [
    "# define a one-hot encoding function\n",
    "def fn_onehot(var):\n",
    "    # get column name\n",
    "    col_name = var.name\n",
    "    # get dummies\n",
    "    df_oh = pd.get_dummies(var, drop_first=False)\n",
    "    # find the most frequent column\n",
    "    col_mostFreq = df_oh.sum(axis = 0).idxmax()\n",
    "    # drop the most frequent column\n",
    "    df_oh = df_oh.drop(col_mostFreq, axis=1)\n",
    "    # rename the column\n",
    "    df_oh.columns = [f'{col_name}_{level}' for level in df_oh.columns]\n",
    "    return df_oh"
   ]
  },
  {
   "cell_type": "code",
   "execution_count": 40,
   "id": "39af3c02",
   "metadata": {},
   "outputs": [],
   "source": [
    "# perform one-hot encoding\n",
    "\n",
    "# initialise a dataframe\n",
    "df_oh = pd.DataFrame()\n",
    "for var in var_sel_cat:\n",
    "    # generate a dataframe for one-hot encoded variable\n",
    "    df = fn_onehot(X[var])\n",
    "    # concat the one-hot variables\n",
    "    df_oh = pd.concat([df_oh, df], axis=1, sort=False)"
   ]
  },
  {
   "cell_type": "code",
   "execution_count": 41,
   "id": "7f8807ff",
   "metadata": {},
   "outputs": [
    {
     "data": {
      "text/html": [
       "<div>\n",
       "<style scoped>\n",
       "    .dataframe tbody tr th:only-of-type {\n",
       "        vertical-align: middle;\n",
       "    }\n",
       "\n",
       "    .dataframe tbody tr th {\n",
       "        vertical-align: top;\n",
       "    }\n",
       "\n",
       "    .dataframe thead th {\n",
       "        text-align: right;\n",
       "    }\n",
       "</style>\n",
       "<table border=\"1\" class=\"dataframe\">\n",
       "  <thead>\n",
       "    <tr style=\"text-align: right;\">\n",
       "      <th></th>\n",
       "      <th>e21_A</th>\n",
       "      <th>e21_B</th>\n",
       "      <th>e21_D</th>\n",
       "      <th>e21_E</th>\n",
       "      <th>e21_F</th>\n",
       "      <th>e21_G</th>\n",
       "      <th>e21_H</th>\n",
       "      <th>e21_I</th>\n",
       "      <th>e21_J</th>\n",
       "      <th>e21_K</th>\n",
       "      <th>...</th>\n",
       "      <th>e21_P</th>\n",
       "      <th>e21_Q</th>\n",
       "      <th>b04_B</th>\n",
       "      <th>b04_C</th>\n",
       "      <th>b04_D</th>\n",
       "      <th>b04_E</th>\n",
       "      <th>b04_F</th>\n",
       "      <th>b04_G</th>\n",
       "      <th>b04_H</th>\n",
       "      <th>b04_I</th>\n",
       "    </tr>\n",
       "  </thead>\n",
       "  <tbody>\n",
       "    <tr>\n",
       "      <th>0</th>\n",
       "      <td>0</td>\n",
       "      <td>0</td>\n",
       "      <td>0</td>\n",
       "      <td>0</td>\n",
       "      <td>0</td>\n",
       "      <td>0</td>\n",
       "      <td>0</td>\n",
       "      <td>0</td>\n",
       "      <td>0</td>\n",
       "      <td>0</td>\n",
       "      <td>...</td>\n",
       "      <td>0</td>\n",
       "      <td>1</td>\n",
       "      <td>0</td>\n",
       "      <td>0</td>\n",
       "      <td>0</td>\n",
       "      <td>0</td>\n",
       "      <td>1</td>\n",
       "      <td>0</td>\n",
       "      <td>0</td>\n",
       "      <td>0</td>\n",
       "    </tr>\n",
       "    <tr>\n",
       "      <th>1</th>\n",
       "      <td>0</td>\n",
       "      <td>0</td>\n",
       "      <td>0</td>\n",
       "      <td>0</td>\n",
       "      <td>0</td>\n",
       "      <td>0</td>\n",
       "      <td>0</td>\n",
       "      <td>0</td>\n",
       "      <td>0</td>\n",
       "      <td>0</td>\n",
       "      <td>...</td>\n",
       "      <td>0</td>\n",
       "      <td>1</td>\n",
       "      <td>0</td>\n",
       "      <td>0</td>\n",
       "      <td>0</td>\n",
       "      <td>0</td>\n",
       "      <td>1</td>\n",
       "      <td>0</td>\n",
       "      <td>0</td>\n",
       "      <td>0</td>\n",
       "    </tr>\n",
       "    <tr>\n",
       "      <th>2</th>\n",
       "      <td>0</td>\n",
       "      <td>0</td>\n",
       "      <td>0</td>\n",
       "      <td>0</td>\n",
       "      <td>0</td>\n",
       "      <td>0</td>\n",
       "      <td>0</td>\n",
       "      <td>0</td>\n",
       "      <td>0</td>\n",
       "      <td>0</td>\n",
       "      <td>...</td>\n",
       "      <td>0</td>\n",
       "      <td>1</td>\n",
       "      <td>0</td>\n",
       "      <td>0</td>\n",
       "      <td>0</td>\n",
       "      <td>0</td>\n",
       "      <td>1</td>\n",
       "      <td>0</td>\n",
       "      <td>0</td>\n",
       "      <td>0</td>\n",
       "    </tr>\n",
       "    <tr>\n",
       "      <th>3</th>\n",
       "      <td>0</td>\n",
       "      <td>0</td>\n",
       "      <td>0</td>\n",
       "      <td>0</td>\n",
       "      <td>0</td>\n",
       "      <td>0</td>\n",
       "      <td>0</td>\n",
       "      <td>0</td>\n",
       "      <td>0</td>\n",
       "      <td>0</td>\n",
       "      <td>...</td>\n",
       "      <td>0</td>\n",
       "      <td>0</td>\n",
       "      <td>0</td>\n",
       "      <td>1</td>\n",
       "      <td>0</td>\n",
       "      <td>0</td>\n",
       "      <td>0</td>\n",
       "      <td>0</td>\n",
       "      <td>0</td>\n",
       "      <td>0</td>\n",
       "    </tr>\n",
       "    <tr>\n",
       "      <th>4</th>\n",
       "      <td>0</td>\n",
       "      <td>0</td>\n",
       "      <td>0</td>\n",
       "      <td>0</td>\n",
       "      <td>0</td>\n",
       "      <td>0</td>\n",
       "      <td>0</td>\n",
       "      <td>0</td>\n",
       "      <td>0</td>\n",
       "      <td>0</td>\n",
       "      <td>...</td>\n",
       "      <td>0</td>\n",
       "      <td>0</td>\n",
       "      <td>0</td>\n",
       "      <td>1</td>\n",
       "      <td>0</td>\n",
       "      <td>0</td>\n",
       "      <td>0</td>\n",
       "      <td>0</td>\n",
       "      <td>0</td>\n",
       "      <td>0</td>\n",
       "    </tr>\n",
       "  </tbody>\n",
       "</table>\n",
       "<p>5 rows × 24 columns</p>\n",
       "</div>"
      ],
      "text/plain": [
       "   e21_A  e21_B  e21_D  e21_E  e21_F  e21_G  e21_H  e21_I  e21_J  e21_K  ...  \\\n",
       "0      0      0      0      0      0      0      0      0      0      0  ...   \n",
       "1      0      0      0      0      0      0      0      0      0      0  ...   \n",
       "2      0      0      0      0      0      0      0      0      0      0  ...   \n",
       "3      0      0      0      0      0      0      0      0      0      0  ...   \n",
       "4      0      0      0      0      0      0      0      0      0      0  ...   \n",
       "\n",
       "   e21_P  e21_Q  b04_B  b04_C  b04_D  b04_E  b04_F  b04_G  b04_H  b04_I  \n",
       "0      0      1      0      0      0      0      1      0      0      0  \n",
       "1      0      1      0      0      0      0      1      0      0      0  \n",
       "2      0      1      0      0      0      0      1      0      0      0  \n",
       "3      0      0      0      1      0      0      0      0      0      0  \n",
       "4      0      0      0      1      0      0      0      0      0      0  \n",
       "\n",
       "[5 rows x 24 columns]"
      ]
     },
     "execution_count": 41,
     "metadata": {},
     "output_type": "execute_result"
    }
   ],
   "source": [
    "df_oh.head()"
   ]
  },
  {
   "cell_type": "markdown",
   "id": "e97e1579",
   "metadata": {},
   "source": [
    "### Train and predict with a penalised linear regression model"
   ]
  },
  {
   "cell_type": "markdown",
   "id": "0bb6ac8e",
   "metadata": {},
   "source": [
    "The above code is to simulate the variable selection and the preprocessing process use in this model. The following code will perform the above preprocessing on both the training set and the test set, train a penalised linear regression model, and make a prediction on the test set."
   ]
  },
  {
   "cell_type": "markdown",
   "id": "199aec9f",
   "metadata": {},
   "source": [
    "#### Data preprocessing"
   ]
  },
  {
   "cell_type": "markdown",
   "id": "433fce22",
   "metadata": {},
   "source": [
    "Numeric features"
   ]
  },
  {
   "cell_type": "code",
   "execution_count": 42,
   "id": "f3883f61",
   "metadata": {},
   "outputs": [],
   "source": [
    "# subset df with selected numeric features\n",
    "df_train_num = train_set[var_sel_num]\n",
    "df_test_num = test_set[var_sel_num]"
   ]
  },
  {
   "cell_type": "markdown",
   "id": "10f088ea",
   "metadata": {},
   "source": [
    "Spline numeric features\n",
    "\n",
    "- Spline using the percentiles from the train set and applies the same transformation to the test set (Similar logic as other preprocessings the transformation is fitted using the training set and applied to the test set)."
   ]
  },
  {
   "cell_type": "code",
   "execution_count": 43,
   "id": "0824de53",
   "metadata": {},
   "outputs": [],
   "source": [
    "# define a spline function that transform both train/test set\n",
    "def fn_spline_train_test(var, x_train, x_test, n_spline):\n",
    "    # define percentile step size\n",
    "    step = 100 // n_spline\n",
    "    # get the percentiles from the train set\n",
    "    ptiles = np.percentile(x_train, np.arange(step, 100+step, step))\n",
    "    # initialise dataframes\n",
    "    train_ptiles = pd.DataFrame({var: x_train})\n",
    "    test_ptiles = pd.DataFrame({var: x_test})\n",
    "    # spline the variable\n",
    "    for idx, ptile in enumerate(ptiles):\n",
    "        train_ptiles[f'{var}_{str(idx)}'] = np.maximum(0, x_train - ptiles[idx])\n",
    "        test_ptiles[f'{var}_{str(idx)}'] = np.maximum(0, x_test - ptiles[idx])\n",
    "    return [train_ptiles, test_ptiles]"
   ]
  },
  {
   "cell_type": "code",
   "execution_count": 44,
   "id": "0318b8fb",
   "metadata": {},
   "outputs": [],
   "source": [
    "# applies linear spline to both train/test sets\n",
    "for var in var_to_spline:\n",
    "    # generate a dataframe for spline variables\n",
    "    train_ptiles, test_ptiles = fn_spline_train_test(var=var, \n",
    "                                                     x_train=df_train_num[var],\n",
    "                                                     x_test=df_test_num[var],\n",
    "                                                     n_spline=5)\n",
    "    # drop the variable that were transformed\n",
    "    df_train_num = df_train_num.drop(columns=[var])\n",
    "    df_test_num = df_test_num.drop(columns=[var])\n",
    "    # concat the spline variables\n",
    "    df_train_num = pd.concat([df_train_num, train_ptiles], axis=1, sort=False)\n",
    "    df_test_num = pd.concat([df_test_num, test_ptiles], axis=1, sort=False)\n",
    "# subset the dataframe from selected variables through previous LassoCV\n",
    "df_train_num = df_train_num[sel_features_spline]\n",
    "df_test_num = df_test_num[sel_features_spline]"
   ]
  },
  {
   "cell_type": "markdown",
   "id": "a3285c95",
   "metadata": {},
   "source": [
    "Categorical features"
   ]
  },
  {
   "cell_type": "code",
   "execution_count": 45,
   "id": "980ee898",
   "metadata": {},
   "outputs": [],
   "source": [
    "# subset df with selected categorical features\n",
    "df_train_cat = train_set[var_sel_cat]\n",
    "df_test_cat = test_set[var_sel_cat]"
   ]
  },
  {
   "cell_type": "markdown",
   "id": "693293ab",
   "metadata": {},
   "source": [
    "One-hot encoding\n",
    "* Some classes in the test set do not exist in the train set. Therefore, we concatenate the two sets for encoding purpose."
   ]
  },
  {
   "cell_type": "code",
   "execution_count": 46,
   "id": "cb5f5c3c",
   "metadata": {},
   "outputs": [
    {
     "name": "stderr",
     "output_type": "stream",
     "text": [
      "<ipython-input-46-a2142dbbf694>:2: SettingWithCopyWarning: \n",
      "A value is trying to be set on a copy of a slice from a DataFrame.\n",
      "Try using .loc[row_indexer,col_indexer] = value instead\n",
      "\n",
      "See the caveats in the documentation: https://pandas.pydata.org/pandas-docs/stable/user_guide/indexing.html#returning-a-view-versus-a-copy\n",
      "  df_train_cat['isTrain'] = True\n",
      "<ipython-input-46-a2142dbbf694>:3: SettingWithCopyWarning: \n",
      "A value is trying to be set on a copy of a slice from a DataFrame.\n",
      "Try using .loc[row_indexer,col_indexer] = value instead\n",
      "\n",
      "See the caveats in the documentation: https://pandas.pydata.org/pandas-docs/stable/user_guide/indexing.html#returning-a-view-versus-a-copy\n",
      "  df_test_cat['isTrain'] = False\n"
     ]
    }
   ],
   "source": [
    "# create a `isTrain` column to specify to which df an observation belongs\n",
    "df_train_cat['isTrain'] = True\n",
    "df_test_cat['isTrain'] = False\n",
    "# concatenate the two dataframe\n",
    "df_all_cat = pd.concat([df_train_cat, df_test_cat], axis=0, sort=False)"
   ]
  },
  {
   "cell_type": "code",
   "execution_count": 47,
   "id": "29441d24",
   "metadata": {},
   "outputs": [],
   "source": [
    "# initialise a dataframe with `isTrain` column\n",
    "df_oh = df_all_cat['isTrain']\n",
    "for var in var_sel_cat:\n",
    "    # generate a dataframe for one-hot encoded variable\n",
    "    df = fn_onehot(df_all_cat[var])\n",
    "    # concat the one-hot variables\n",
    "    df_oh = pd.concat([df_oh, df], axis=1, sort=False)\n",
    "    \n",
    "# assign back to the `df_train_cat` dataframe\n",
    "df_train_cat = df_oh[df_oh['isTrain'] == True]\n",
    "# drop the `isTrain` column\n",
    "df_train_cat = df_train_cat.drop(columns='isTrain')\n",
    "\n",
    "# assign back to the `df_test_cat` dataframe\n",
    "df_test_cat = df_oh[df_oh['isTrain'] == False]\n",
    "# drop the `isTrain` column\n",
    "df_test_cat = df_test_cat.drop(columns='isTrain')"
   ]
  },
  {
   "cell_type": "markdown",
   "id": "5d2e18c5",
   "metadata": {},
   "source": [
    "Concatenate the train/test sets -- numeric and categorical"
   ]
  },
  {
   "cell_type": "code",
   "execution_count": 48,
   "id": "1322bb74",
   "metadata": {},
   "outputs": [],
   "source": [
    "df_train_all = pd.concat([df_train_num, df_train_cat], axis=1, sort=False)\n",
    "df_test_all = pd.concat([df_test_num, df_test_cat], axis=1, sort=False)"
   ]
  },
  {
   "cell_type": "markdown",
   "id": "7e11531f",
   "metadata": {},
   "source": [
    "Concatenate response column to the train set"
   ]
  },
  {
   "cell_type": "code",
   "execution_count": 49,
   "id": "5954c046",
   "metadata": {},
   "outputs": [],
   "source": [
    "df_train_all['target'] = train_set[var_idx_response]"
   ]
  },
  {
   "cell_type": "markdown",
   "id": "f567072a",
   "metadata": {},
   "source": [
    "Split train set into - train/val set - for hyperparameter tuning"
   ]
  },
  {
   "cell_type": "code",
   "execution_count": 50,
   "id": "e633a8c8",
   "metadata": {},
   "outputs": [],
   "source": [
    "# split train for validation\n",
    "training_set, val_set = train_test_split(df_train_all, test_size=0.2, random_state=888)\n",
    "\n",
    "# organize train/test components\n",
    "X_train = training_set.loc[:, training_set.columns != 'target']\n",
    "y_train = training_set.loc[:, 'target']\n",
    "X_val = val_set.loc[:, val_set.columns != 'target']\n",
    "y_val = val_set.loc[:, 'target']"
   ]
  },
  {
   "cell_type": "markdown",
   "id": "1bcf83e8",
   "metadata": {},
   "source": [
    "Standardise numeric features"
   ]
  },
  {
   "cell_type": "code",
   "execution_count": 51,
   "id": "8a62d25f",
   "metadata": {},
   "outputs": [
    {
     "name": "stderr",
     "output_type": "stream",
     "text": [
      "<ipython-input-51-e32862052ea9>:13: SettingWithCopyWarning: \n",
      "A value is trying to be set on a copy of a slice from a DataFrame.\n",
      "Try using .loc[row_indexer,col_indexer] = value instead\n",
      "\n",
      "See the caveats in the documentation: https://pandas.pydata.org/pandas-docs/stable/user_guide/indexing.html#returning-a-view-versus-a-copy\n",
      "  X_train[num_col] = X_train_scale\n",
      "/opt/conda/lib/python3.9/site-packages/pandas/core/indexing.py:1738: SettingWithCopyWarning: \n",
      "A value is trying to be set on a copy of a slice from a DataFrame.\n",
      "Try using .loc[row_indexer,col_indexer] = value instead\n",
      "\n",
      "See the caveats in the documentation: https://pandas.pydata.org/pandas-docs/stable/user_guide/indexing.html#returning-a-view-versus-a-copy\n",
      "  self._setitem_single_column(loc, value[:, i].tolist(), pi)\n",
      "<ipython-input-51-e32862052ea9>:14: SettingWithCopyWarning: \n",
      "A value is trying to be set on a copy of a slice from a DataFrame.\n",
      "Try using .loc[row_indexer,col_indexer] = value instead\n",
      "\n",
      "See the caveats in the documentation: https://pandas.pydata.org/pandas-docs/stable/user_guide/indexing.html#returning-a-view-versus-a-copy\n",
      "  X_val[num_col] = X_val_scale\n"
     ]
    }
   ],
   "source": [
    "# get numeric features index -- format required by `ColumnTransformer` function\n",
    "num_col = X_train[sel_features_spline].columns\n",
    "# create a pipeline to only standardise numeric columns\n",
    "# -- parameters = List of (name, transformer, columns)\n",
    "pipeline = ColumnTransformer([('standardise', StandardScaler(), num_col)])\n",
    "\n",
    "# fit and transform numeric features through `StandardScaler()`\n",
    "X_train_scale = pipeline.fit_transform(X_train)\n",
    "X_val_scale = pipeline.transform(X_val)\n",
    "df_test_all_scale = pipeline.transform(df_test_all)\n",
    "\n",
    "# assign back the scaled values\n",
    "X_train[num_col] = X_train_scale\n",
    "X_val[num_col] = X_val_scale\n",
    "df_test_all[num_col] = df_test_all_scale"
   ]
  },
  {
   "cell_type": "markdown",
   "id": "e6361549",
   "metadata": {},
   "source": [
    "#### Model Training\n",
    "We tried the two models including:\n",
    "- Ridge\n",
    "- LASSO\n",
    "\n",
    "to see which model would give best result for this data \n",
    "- Model comparison metric: roc_auc_score (AUC)"
   ]
  },
  {
   "cell_type": "code",
   "execution_count": 52,
   "id": "de861f42",
   "metadata": {},
   "outputs": [],
   "source": [
    "# setup lambdas for grid search\n",
    "# -- the grid was defined through experiments\n",
    "lambdas = np.logspace(-3, 2, 10)\n",
    "# initialise a dataframe to store model results from ridge regressions\n",
    "df_results_rr = pd.DataFrame({'lambda_': lambdas,\n",
    "                              'ROC_train': np.nan,\n",
    "                              'ROC_val': np.nan\n",
    "                             })"
   ]
  },
  {
   "cell_type": "markdown",
   "id": "b533b754",
   "metadata": {},
   "source": [
    "Ridge regression"
   ]
  },
  {
   "cell_type": "code",
   "execution_count": 53,
   "id": "0eb7d26b",
   "metadata": {},
   "outputs": [],
   "source": [
    "# ridge regressions\n",
    "for idx, lambda_ in enumerate(lambdas):\n",
    "    # specify the model\n",
    "    model = Ridge(alpha=lambda_,\n",
    "                  fit_intercept=True,\n",
    "                  normalize=False,\n",
    "                  random_state=999)\n",
    "    # fit the model\n",
    "    model.fit(X_train, y_train)\n",
    "    \n",
    "    # make prediction on the train/validation set\n",
    "    model_pred_train = model.predict(X_train)\n",
    "    model_pred_val   = model.predict(X_val)\n",
    "    \n",
    "    # compute AUC score\n",
    "    df_results_rr['ROC_train'][idx] = roc_auc_score(y_train, model_pred_train)\n",
    "    df_results_rr['ROC_val'][idx]   = roc_auc_score(y_val, model_pred_val)"
   ]
  },
  {
   "cell_type": "code",
   "execution_count": 54,
   "id": "c22d912b",
   "metadata": {},
   "outputs": [
    {
     "name": "stdout",
     "output_type": "stream",
     "text": [
      "Ridge Regression:\n",
      "---------------------\n",
      "lambda_      100.000000\n",
      "ROC_train      0.633029\n",
      "ROC_val        0.625490\n",
      "Name: 9, dtype: float64\n"
     ]
    }
   ],
   "source": [
    "# print the best model\n",
    "print(\n",
    "'Ridge Regression:\\n\\\n",
    "---------------------'\n",
    ")\n",
    "print(df_results_rr.iloc[df_results_rr['ROC_val'].idxmax()])\n",
    "\n",
    "# expected result\n",
    "# -- even with seed set, the psuedorandomness in the model training\n",
    "# -- does not give the completely same results concerning very small digits\n",
    "# Ridge Regression:\n",
    "# ---------------------\n",
    "# lambda_      100.000000\n",
    "# ROC_train      0.633029\n",
    "# ROC_val        0.625490"
   ]
  },
  {
   "cell_type": "markdown",
   "id": "782dacb5",
   "metadata": {},
   "source": [
    "LASSO regression"
   ]
  },
  {
   "cell_type": "code",
   "execution_count": 55,
   "id": "ba7a41b5",
   "metadata": {},
   "outputs": [],
   "source": [
    "# setup lambdas for grid search\n",
    "# -- the grid was defined through experiments\n",
    "lambdas = np.logspace(-3, 2, 10)\n",
    "# initialise a dataframe to store model results from LASSO regressions\n",
    "df_results_lr = pd.DataFrame({'lambda_': lambdas,\n",
    "                              'ROC_train': np.nan,\n",
    "                              'ROC_val': np.nan\n",
    "                             })"
   ]
  },
  {
   "cell_type": "code",
   "execution_count": 56,
   "id": "f050d564",
   "metadata": {},
   "outputs": [],
   "source": [
    "# lasso regressions\n",
    "for idx, lambda_ in enumerate(lambdas):\n",
    "    # specify the model\n",
    "    model = Lasso(alpha=lambda_,\n",
    "                  fit_intercept=True,\n",
    "                  normalize=False,\n",
    "                  random_state=999)\n",
    "    # fit the model\n",
    "    model.fit(X_train, y_train)\n",
    "    \n",
    "    # make prediction on the train/validation set\n",
    "    model_pred_train = model.predict(X_train)\n",
    "    model_pred_val   = model.predict(X_val)\n",
    "    \n",
    "    # compute AUC score\n",
    "    df_results_lr['ROC_train'][idx] = roc_auc_score(y_train, model_pred_train)\n",
    "    df_results_lr['ROC_val'][idx]   = roc_auc_score(y_val, model_pred_val)"
   ]
  },
  {
   "cell_type": "code",
   "execution_count": 57,
   "id": "f216a7eb",
   "metadata": {},
   "outputs": [
    {
     "name": "stdout",
     "output_type": "stream",
     "text": [
      "Lasso Regression:\n",
      "---------------------\n",
      "lambda_      0.001000\n",
      "ROC_train    0.630893\n",
      "ROC_val      0.622881\n",
      "Name: 0, dtype: float64\n"
     ]
    }
   ],
   "source": [
    "# print the best model\n",
    "print(\n",
    "'Lasso Regression:\\n\\\n",
    "---------------------'\n",
    ")\n",
    "print(df_results_lr.iloc[df_results_lr['ROC_val'].idxmax()])\n",
    "\n",
    "# expected result\n",
    "# -- even with seed set, the psuedorandomness in the model training\n",
    "# -- does not give the completely same results concerning very small digits\n",
    "# Lasso Regression:\n",
    "# ---------------------\n",
    "# lambda_      0.001000\n",
    "# ROC_train    0.630893\n",
    "# ROC_val      0.622881"
   ]
  },
  {
   "cell_type": "markdown",
   "id": "8a81c849",
   "metadata": {},
   "source": [
    "#### Predict the test set\n",
    "To predict the test set, we use the model that performed best on the validation set.\n",
    "- Model used: Ridge regression - $\\lambda = 100$"
   ]
  },
  {
   "cell_type": "code",
   "execution_count": 58,
   "id": "b4bf2f69",
   "metadata": {},
   "outputs": [],
   "source": [
    "# concatenate the train and validation dataset to provide the most information we have\n",
    "X_design = pd.concat([X_train, X_val], axis = 0, sort=False)\n",
    "y_design = pd.concat([y_train, y_val], axis = 0, sort=False)\n",
    "# specify the model\n",
    "model = Ridge(alpha=100,\n",
    "              fit_intercept=True,\n",
    "              normalize=False,\n",
    "              random_state=999)\n",
    "# fit the model\n",
    "model.fit(X_design, y_design)\n",
    "# make prediction\n",
    "model_pred_test = model.predict(df_test_all)\n",
    "# clip the result to be in range [0, 1]\n",
    "model_pred_test = np.where(model_pred_test < 0, 0, model_pred_test)\n",
    "model_pred_test = np.where(model_pred_test > 1, 1, model_pred_test)"
   ]
  },
  {
   "cell_type": "markdown",
   "id": "c5faf3ca",
   "metadata": {},
   "source": [
    "#### Create submission file"
   ]
  },
  {
   "cell_type": "code",
   "execution_count": 59,
   "id": "f6e8b80b",
   "metadata": {},
   "outputs": [],
   "source": [
    "submission = pd.DataFrame({\n",
    "    'unique_id': test_set['unique_id'],\n",
    "    'Predicted': model_pred_test\n",
    "})\n",
    "# save the submission file\n",
    "f_name = 'Group_8_part2.csv'\n",
    "f_path = os.path.join(dirPOutput, f_name)\n",
    "submission.to_csv(f_path, index=False)"
   ]
  },
  {
   "cell_type": "code",
   "execution_count": 60,
   "id": "f26b09e6",
   "metadata": {},
   "outputs": [
    {
     "data": {
      "text/html": [
       "<div>\n",
       "<style scoped>\n",
       "    .dataframe tbody tr th:only-of-type {\n",
       "        vertical-align: middle;\n",
       "    }\n",
       "\n",
       "    .dataframe tbody tr th {\n",
       "        vertical-align: top;\n",
       "    }\n",
       "\n",
       "    .dataframe thead th {\n",
       "        text-align: right;\n",
       "    }\n",
       "</style>\n",
       "<table border=\"1\" class=\"dataframe\">\n",
       "  <thead>\n",
       "    <tr style=\"text-align: right;\">\n",
       "      <th></th>\n",
       "      <th>unique_id</th>\n",
       "      <th>Predicted</th>\n",
       "    </tr>\n",
       "  </thead>\n",
       "  <tbody>\n",
       "    <tr>\n",
       "      <th>0</th>\n",
       "      <td>6</td>\n",
       "      <td>0.536861</td>\n",
       "    </tr>\n",
       "    <tr>\n",
       "      <th>1</th>\n",
       "      <td>16</td>\n",
       "      <td>0.585298</td>\n",
       "    </tr>\n",
       "    <tr>\n",
       "      <th>2</th>\n",
       "      <td>17</td>\n",
       "      <td>0.364450</td>\n",
       "    </tr>\n",
       "    <tr>\n",
       "      <th>3</th>\n",
       "      <td>18</td>\n",
       "      <td>0.551739</td>\n",
       "    </tr>\n",
       "    <tr>\n",
       "      <th>4</th>\n",
       "      <td>19</td>\n",
       "      <td>0.469801</td>\n",
       "    </tr>\n",
       "    <tr>\n",
       "      <th>...</th>\n",
       "      <td>...</td>\n",
       "      <td>...</td>\n",
       "    </tr>\n",
       "    <tr>\n",
       "      <th>296685</th>\n",
       "      <td>2265630</td>\n",
       "      <td>0.619475</td>\n",
       "    </tr>\n",
       "    <tr>\n",
       "      <th>296686</th>\n",
       "      <td>2265631</td>\n",
       "      <td>0.574988</td>\n",
       "    </tr>\n",
       "    <tr>\n",
       "      <th>296687</th>\n",
       "      <td>2265632</td>\n",
       "      <td>0.595093</td>\n",
       "    </tr>\n",
       "    <tr>\n",
       "      <th>296688</th>\n",
       "      <td>2265637</td>\n",
       "      <td>0.310367</td>\n",
       "    </tr>\n",
       "    <tr>\n",
       "      <th>296689</th>\n",
       "      <td>2265638</td>\n",
       "      <td>0.471888</td>\n",
       "    </tr>\n",
       "  </tbody>\n",
       "</table>\n",
       "<p>296690 rows × 2 columns</p>\n",
       "</div>"
      ],
      "text/plain": [
       "        unique_id  Predicted\n",
       "0               6   0.536861\n",
       "1              16   0.585298\n",
       "2              17   0.364450\n",
       "3              18   0.551739\n",
       "4              19   0.469801\n",
       "...           ...        ...\n",
       "296685    2265630   0.619475\n",
       "296686    2265631   0.574988\n",
       "296687    2265632   0.595093\n",
       "296688    2265637   0.310367\n",
       "296689    2265638   0.471888\n",
       "\n",
       "[296690 rows x 2 columns]"
      ]
     },
     "execution_count": 60,
     "metadata": {},
     "output_type": "execute_result"
    }
   ],
   "source": [
    "submission"
   ]
  },
  {
   "cell_type": "markdown",
   "id": "414f4204",
   "metadata": {},
   "source": [
    "### Note on Part 2"
   ]
  },
  {
   "cell_type": "markdown",
   "id": "7bd99c65",
   "metadata": {},
   "source": [
    "#### Kaggle score: 0.62644\n",
    "<img src=\"../screenshots/Group_8_part2_screenshot.png\">\n",
    "\n",
    "For Part 2, the logical processes for our solution are as follows:\n",
    "- Strategically clean the missing values\n",
    "- Perform numeric feature selection through LASSO\n",
    "- Apply linear spline (n=5; equidistant percentile between 0,1) to selected numeric features that have more than 20 unique values\n",
    "- Perform feature selection again through LASSO to avoid overfitting\n",
    "- Perform categorical feature selection based on tree-based variable importance (hccv features are not used in this part)\n",
    "- One-Hot encoded selected categorical variables\n",
    "- Standardise numeric variables\n",
    "  * Using mean/sd of the train set for train/val training process\n",
    "  * Using mean/sd of design set for design/test training process\n",
    "- Tune and compare between Lasso and Ridge regressions\n",
    "- Fit the final model on the design set: model = Ridge regression with lambda = 100\n",
    "- Predict the test set and create the submission file for the Kaggle competition"
   ]
  },
  {
   "cell_type": "code",
   "execution_count": null,
   "id": "83e60643",
   "metadata": {},
   "outputs": [],
   "source": []
  }
 ],
 "metadata": {
  "kernelspec": {
   "display_name": "Python 3",
   "language": "python",
   "name": "python3"
  },
  "language_info": {
   "codemirror_mode": {
    "name": "ipython",
    "version": 3
   },
   "file_extension": ".py",
   "mimetype": "text/x-python",
   "name": "python",
   "nbconvert_exporter": "python",
   "pygments_lexer": "ipython3",
   "version": "3.9.2"
  }
 },
 "nbformat": 4,
 "nbformat_minor": 5
}
